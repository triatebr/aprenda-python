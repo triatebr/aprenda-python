{
 "cells": [
  {
   "cell_type": "code",
   "execution_count": 1,
   "metadata": {},
   "outputs": [],
   "source": [
    "import pandas as pd"
   ]
  },
  {
   "cell_type": "code",
   "execution_count": 2,
   "metadata": {},
   "outputs": [
    {
     "name": "stdout",
     "output_type": "stream",
     "text": [
      "   a  b\n",
      "a  0  5\n",
      "b  1  3\n",
      "c  2  6\n",
      "d  3  9\n",
      "e  4  2\n",
      "f  5  4\n"
     ]
    }
   ],
   "source": [
    "df1 = pd.DataFrame({'a':range(6),\n",
    "                    'b':[5,3,6,9,2,4]}, index=list('abcdef'))\n",
    "\n",
    "print(df1)"
   ]
  },
  {
   "cell_type": "code",
   "execution_count": 3,
   "metadata": {},
   "outputs": [
    {
     "name": "stdout",
     "output_type": "stream",
     "text": [
      "   c   d\n",
      "a  0  10\n",
      "b  1  20\n",
      "h  2  30\n",
      "i  3  40\n"
     ]
    }
   ],
   "source": [
    "df2 = pd.DataFrame({'c':range(4),\n",
    "                    'd':[10,20,30, 40]}, index=list('abhi'))\n",
    "\n",
    "print (df2)"
   ]
  },
  {
   "cell_type": "code",
   "execution_count": 4,
   "metadata": {},
   "outputs": [
    {
     "name": "stdout",
     "output_type": "stream",
     "text": [
      "   a  b  c   d\n",
      "a  0  5  0  10\n",
      "b  1  3  1  20\n"
     ]
    }
   ],
   "source": [
    "#default inner join\n",
    "df3 = pd.merge(df1, df2, left_index=True, right_index=True)\n",
    "print (df3)"
   ]
  },
  {
   "cell_type": "code",
   "execution_count": 5,
   "metadata": {},
   "outputs": [
    {
     "name": "stdout",
     "output_type": "stream",
     "text": [
      "   a  b    c     d\n",
      "a  0  5  0.0  10.0\n",
      "b  1  3  1.0  20.0\n",
      "c  2  6  NaN   NaN\n",
      "d  3  9  NaN   NaN\n",
      "e  4  2  NaN   NaN\n",
      "f  5  4  NaN   NaN\n"
     ]
    }
   ],
   "source": [
    "#default left join\n",
    "df4 = df1.join(df2)\n",
    "print (df4)"
   ]
  },
  {
   "cell_type": "code",
   "execution_count": 6,
   "metadata": {},
   "outputs": [
    {
     "name": "stdout",
     "output_type": "stream",
     "text": [
      "     a    b    c     d\n",
      "a  0.0  5.0  0.0  10.0\n",
      "b  1.0  3.0  1.0  20.0\n",
      "c  2.0  6.0  NaN   NaN\n",
      "d  3.0  9.0  NaN   NaN\n",
      "e  4.0  2.0  NaN   NaN\n",
      "f  5.0  4.0  NaN   NaN\n",
      "h  NaN  NaN  2.0  30.0\n",
      "i  NaN  NaN  3.0  40.0\n"
     ]
    },
    {
     "name": "stderr",
     "output_type": "stream",
     "text": [
      "C:\\Users\\kroton\\Anaconda3\\lib\\site-packages\\ipykernel_launcher.py:2: FutureWarning: Sorting because non-concatenation axis is not aligned. A future version\n",
      "of pandas will change to not sort by default.\n",
      "\n",
      "To accept the future behavior, pass 'sort=False'.\n",
      "\n",
      "To retain the current behavior and silence the warning, pass 'sort=True'.\n",
      "\n",
      "  \n"
     ]
    }
   ],
   "source": [
    "#default outer join\n",
    "df5 = pd.concat([df1, df2], axis=1)\n",
    "print (df5)"
   ]
  }
 ],
 "metadata": {
  "kernelspec": {
   "display_name": "Python 3",
   "language": "python",
   "name": "python3"
  },
  "language_info": {
   "codemirror_mode": {
    "name": "ipython",
    "version": 3
   },
   "file_extension": ".py",
   "mimetype": "text/x-python",
   "name": "python",
   "nbconvert_exporter": "python",
   "pygments_lexer": "ipython3",
   "version": "3.7.1"
  }
 },
 "nbformat": 4,
 "nbformat_minor": 2
}
