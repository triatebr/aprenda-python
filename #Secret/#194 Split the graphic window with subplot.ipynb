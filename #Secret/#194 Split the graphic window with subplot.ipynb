{
 "cells": [
  {
   "cell_type": "code",
   "execution_count": 1,
   "metadata": {},
   "outputs": [
    {
     "name": "stderr",
     "output_type": "stream",
     "text": [
      "C:\\Users\\kroton\\Anaconda3\\lib\\site-packages\\ipykernel_launcher.py:13: RuntimeWarning: Second argument 'y' is ambiguous: could be a color spec but is in data; using as data.  Either rename the entry in data or use three arguments to plot.\n",
      "  del sys.path[0]\n"
     ]
    },
    {
     "data": {
      "text/plain": [
       "<Figure size 640x480 with 4 Axes>"
      ]
     },
     "metadata": {},
     "output_type": "display_data"
    }
   ],
   "source": [
    "# libraries\n",
    "# https://python-graph-gallery.com/194-split-the-graphic-window-with-subplot/\n",
    "from matplotlib import pyplot as plt\n",
    "import pandas as pd\n",
    "import numpy as np\n",
    "df=pd.DataFrame({'x': range(1,101), 'y': np.random.randn(100)*15+range(1,101), 'z': (np.random.randn(100)*15+range(1,101))*2 })\n",
    " \n",
    "# initialize a figure\n",
    "fig=plt.figure()\n",
    " \n",
    "# Do a 2x2 chart\n",
    "plt.subplot(221)\n",
    "plt.plot( 'x', 'y', data=df, marker='o', alpha=0.4)\n",
    "plt.title('title of fig A', fontsize=12, color='grey', loc='left', style='italic')\n",
    "plt.subplot(222)\n",
    "plt.plot( 'x','z', data=df, linestyle='none', marker='o', color=\"orange\", alpha=0.3)\n",
    "plt.title('title of fig A', fontsize=12, color='grey', loc='left', style='italic')\n",
    "plt.subplot(223)\n",
    "plt.plot( 'x','z', data=df, linestyle='none', marker='D', color=\"green\", alpha=0.3)\n",
    "plt.title('title of fig A', fontsize=12, color='grey', loc='left', style='italic')\n",
    "plt.subplot(224)\n",
    "plt.plot( 'x','z', data=df, marker='o', color=\"grey\", alpha=0.3)\n",
    "plt.title('title of fig A', fontsize=12, color='grey', loc='left', style='italic')\n",
    " \n",
    "# Add a title:\n",
    "plt.suptitle('A title common to my 4 plots', y=1.02)\n",
    "plt.show()\n"
   ]
  }
 ],
 "metadata": {
  "kernelspec": {
   "display_name": "Python 3",
   "language": "python",
   "name": "python3"
  },
  "language_info": {
   "codemirror_mode": {
    "name": "ipython",
    "version": 3
   },
   "file_extension": ".py",
   "mimetype": "text/x-python",
   "name": "python",
   "nbconvert_exporter": "python",
   "pygments_lexer": "ipython3",
   "version": "3.7.1"
  }
 },
 "nbformat": 4,
 "nbformat_minor": 2
}
