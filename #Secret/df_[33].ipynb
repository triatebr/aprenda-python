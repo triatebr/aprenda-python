{
 "cells": [
  {
   "cell_type": "code",
   "execution_count": 125,
   "metadata": {},
   "outputs": [],
   "source": [
    "CONNECT_TO_ORACLE = True\n",
    "con_oracle = CONNECT_TO_ORACLE\n",
    "\n",
    "if con_oracle:\n",
    "    try:\n",
    "        import cx_Oracle\n",
    "        import pandas as pd\n",
    "\n",
    "\n",
    "        ip = '172.16.137.63'\n",
    "        port = '1521'\n",
    "        service_name = 'aesabi'\n",
    "        dsn_tns = cx_Oracle.makedsn(ip, port, service_name=service_name)\n",
    "        connection = cx_Oracle.connect('bi_read', 'bi_read', dsn_tns, encoding=\"UTF-8\", nencoding=\"UTF-8\")\n",
    "\n",
    "    except:\n",
    "        connection = None\n",
    "        print(\"Oracle AESA BI db connection could not be created\")\n",
    "else:\n",
    "    connection = None\n",
    "\n",
    "def read_origin_to_pandas(sql=\"\", path=\"\", sep=',', encoding='utf-8', dtype={}, connection=connection):\n",
    "    if (con_oracle) or (con_oracle==\"True\"):\n",
    "        return pd.read_sql(sql, con=connection)\n",
    "    else:\n",
    "        return print('Eraro') ##uploads_to_panda(path, sep=sep, encoding=encoding, dtype=dtype)"
   ]
  },
  {
   "cell_type": "code",
   "execution_count": 103,
   "metadata": {},
   "outputs": [],
   "source": [
    "from datetime import datetime, timedelta\n",
    "date = datetime.today() - timedelta(4)"
   ]
  },
  {
   "cell_type": "code",
   "execution_count": 104,
   "metadata": {},
   "outputs": [],
   "source": [
    "date_str =date.strftime('%Y/%m/%d')"
   ]
  },
  {
   "cell_type": "code",
   "execution_count": 105,
   "metadata": {},
   "outputs": [
    {
     "data": {
      "text/plain": [
       "'2019/01/07'"
      ]
     },
     "execution_count": 105,
     "metadata": {},
     "output_type": "execute_result"
    }
   ],
   "source": [
    "date_str"
   ]
  },
  {
   "cell_type": "code",
   "execution_count": 88,
   "metadata": {},
   "outputs": [],
   "source": [
    "sql_teste = \"SELECT dt_base, nr_cpf, fl_matriculado, ds_modalidade FROM TGT_BI_CAPTACAO_ANALITICO WHERE DT_BASE = TO_DATE('2019/01/09','yyyy/mm/dd') AND ds_modalidade='Presencial'\""
   ]
  },
  {
   "cell_type": "code",
   "execution_count": 106,
   "metadata": {},
   "outputs": [],
   "source": [
    "sql_teste = \"SELECT ds_bolsas_aluno, ds_modalidade, cd_bolsas_aluno, cd_candidato, cd_chave_aluno FROM TGT_BI_CAPTACAO_ANALITICO WHERE DT_BASE = TO_DATE('2019/01/09','yyyy/mm/dd')\""
   ]
  },
  {
   "cell_type": "code",
   "execution_count": 111,
   "metadata": {},
   "outputs": [],
   "source": [
    "sql_teste = \"SELECT A.DS_BOLSAS_ALUNO AS BOLSA_ALUNO_TMP,A.DS_MODALIDADE,A.CD_BOLSAS_ALUNO, A.CD_CANDIDATO, A.CD_CHAVE_ALUNO, A.CD_CURSO_INSCRICAO, A.CD_CURSO_MATRICULA, A.CD_RA, U.CD_UNIDADE, A.CD_VENDEDOR, C.CD_ESPECIALIDADE AS CODIGO_CURSO FROM STAGE_SAS.TGT_BI_CAPTACAO_ANALITICO_FECH A LEFT JOIN BI.TB_DIM_UNDE_SCD U ON A.ID_UNDE_SCD = U.ID_UNDE_SCD LEFT JOIN STAGE_SAS.TGT_BI_DE_PARA_CURSO_UNIDADE C ON A.ID_UNDE_SCD = C.ID_UNDE_SCD AND (CASE WHEN A.CD_CURSO_MATRICULA IS NULL THEN A.CD_CURSO_INSCRICAO ELSE A.CD_CURSO_MATRICULA END) = C.CD_ESPECIALIDADE AND C.DS_PERIODO_LETIVO = '20191' WHERE A.DS_PERIODO_LETIVO = '20191' AND A.DT_BASE = '09/01/2019' AND A.DS_MODALIDADE = 'Presencial' AND A.CD_CANDIDATO IN ('114705031','115042267','114784777')\""
   ]
  },
  {
   "cell_type": "code",
   "execution_count": 126,
   "metadata": {},
   "outputs": [],
   "source": [
    "sql_teste = \"SELECT A.DS_BOLSAS_ALUNO AS BOLSA_ALUNO_TMP, A.CD_BOLSAS_ALUNO,A.CD_CANDIDATO, A.CD_CHAVE_ALUNO,A.CD_CURSO_INSCRICAO,A.CD_CURSO_MATRICULA,A.CD_RA,U.CD_UNIDADE,A.CD_VENDEDOR,C.CD_ESPECIALIDADE AS CODIGO_CURSO,A.DS_BAIRRO,A.DS_BOLSA_VIGENTE_ALUNO,A.DS_BOLSAS_ALUNO,U.DS_CANAL,A.DS_CANAL_CONSULTOR,A.DS_CANAL_VENDAS,A.DS_CIDADE,U.DS_CONSULTOR,C.DS_COORDENADOR_CURSO,A.DS_CURSO_INSCRICAO AS DS_CURSO_INSCRICAO_MKT,A.DS_CURSO_MATRICULA AS DS_CURSO_MATRICULA_MKT,C.DS_ESPECIALIDADE AS DS_CURSO_ORIG,U.DS_DIRETOR,A.DS_EMAIL,A.DS_EMPRESA,CASE WHEN UPPER(U.DS_UNIDADE_MKT) LIKE '%[ANHANGUERA]%' THEN 'ANHANGUERA'WHEN UPPER(U.DS_UNIDADE_MKT) LIKE '%[UNOPAR]%' THEN 'UNOPAR' ELSE 'KROTON' END AS DS_EMPRESA_UNOPAR,A.DS_ENDERECO,U.DS_GERENTE,U.DS_GERENTE_MERCADO,U.DS_GERENTE_SENIOR,U.DS_MARCA,U.DS_MARCA_DETALHE,U.DS_MARCA_DETALHE AS DS_MARCA_DETALHE_UNOPAR,A.DS_MODALIDADE,A.DS_MODALIDADE_EAD,A.DS_NOME_CANDIDATO_ALUNO,U.DS_ORIGEM,A.DS_PARCEIRO,A.DS_PERIODO_LETIVO,A.DS_PROCESSO_SELETIVO,A.DS_PROTOCOLO,A.DS_QUINSTREET,U.DS_REGIAO_GEOGRAFICA,U.DS_REGIONAL,A.DS_SEXO,A.DS_SITUACAO_CANDIDATO,A.DS_SITUACAO_CLASSIFICACAO,A.DS_SITUACAO_FIES,A.DS_SITUACAO_MATRICULA,A.DS_SITUACAO_TURMA,U.DS_SUPERVISOR,A.DS_TERMO,A.DS_TURMA,A.DS_UF,U.DS_UNIDADE_MKT,A.DT_APROVADO,A.DT_BASE,A.DT_CONVOCADO,A.DT_ENTRADA_BASE,A.DT_INSCRICAO,A.DT_MATRICULA,A.DT_NASCIMENTO,A.DT_PROVA,A.DT_SITUACAO_PMA,A.FL_ALUNO_PAGANTE,A.FL_APROVADO,A.FL_INSCRITO,A.FL_INSCRITO_PAGO,A.FL_MATRICULADO,A.FL_MATRICULADO_FIES,A.FL_MATRICULADO_PEP,A.FL_MATRICULADO_PROUNI,A.FL_NAO_MAT_EMISSAO_BOLETO,A.FL_NAO_MATRICULADO_PAGO,A.FL_PMA,A.FL_PMA_BOLETO,A.FL_PMA_FIES_CONDICIONAL,A.FL_PMA_PEP,A.FL_PROVA,A.FL_WINBACK_CAPTACAO,C.DS_ESPECIALIDADE_MKT AS NOME_CURSO,A.NR_CEP,A.NR_CPF,A.NR_TELEFONE_CELULAR,A.NR_TELEFONE_COMERCIAL,A.NR_TELEFONE_RESIDENCIAL,C.DS_TURNO AS TURNO,A.DS_PRIM_VENDEDOR FROM STAGE_SAS.TGT_BI_CAPTACAO_ANALITICO_FECH A  LEFT JOIN BI.TB_DIM_UNDE_SCD U ON A.ID_UNDE_SCD = U.ID_UNDE_SCD LEFT JOIN STAGE_SAS.TGT_BI_DE_PARA_CURSO_UNIDADE C ON A.ID_UNDE_SCD = C.ID_UNDE_SCD AND (CASE WHEN A.CD_CURSO_MATRICULA IS NULL THEN A.CD_CURSO_INSCRICAO ELSE A.CD_CURSO_MATRICULA END) = C.CD_ESPECIALIDADE AND C.DS_PERIODO_LETIVO = '20191' WHERE A.DS_PERIODO_LETIVO = '20191' AND A.DT_BASE = '08/01/2019' AND A.DS_MODALIDADE = 'Presencial' AND A.CD_CANDIDATO IN ('114705031','115042267','114784777') UNION SELECT A.DS_BOLSAS_ALUNO AS BOLSA_ALUNO_TMP,A.CD_BOLSAS_ALUNO,A.CD_CANDIDATO,A.CD_CHAVE_ALUNO,A.CD_CURSO_INSCRICAO,A.CD_CURSO_MATRICULA,A.CD_RA,U.CD_UNIDADE,A.CD_VENDEDOR,C.CD_ESPECIALIDADE AS CODIGO_CURSO,A.DS_BAIRRO,A.DS_BOLSA_VIGENTE_ALUNO,A.DS_BOLSAS_ALUNO,U.DS_CANAL,A.DS_CANAL_CONSULTOR,A.DS_CANAL_VENDAS,A.DS_CIDADE,U.DS_CONSULTOR,C.DS_COORDENADOR_CURSO,A.DS_CURSO_INSCRICAO AS DS_CURSO_INSCRICAO_MKT,A.DS_CURSO_MATRICULA AS DS_CURSO_MATRICULA_MKT,C.DS_ESPECIALIDADE AS DS_CURSO_ORIG,U.DS_DIRETOR,A.DS_EMAIL,A.DS_EMPRESA,CASE WHEN UPPER(U.DS_UNIDADE_MKT) LIKE '%[ANHANGUERA]%' THEN 'ANHANGUERA' WHEN UPPER(U.DS_UNIDADE_MKT) LIKE '%[UNOPAR]%' THEN 'UNOPAR' ELSE 'KROTON' END AS DS_EMPRESA_UNOPAR,A.DS_ENDERECO,U.DS_GERENTE,U.DS_GERENTE_MERCADO,U.DS_GERENTE_SENIOR,U.DS_MARCA,U.DS_MARCA_DETALHE,U.DS_MARCA_DETALHE AS DS_MARCA_DETALHE_UNOPAR,A.DS_MODALIDADE,A.DS_MODALIDADE_EAD,A.DS_NOME_CANDIDATO_ALUNO,U.DS_ORIGEM,A.DS_PARCEIRO,A.DS_PERIODO_LETIVO,A.DS_PROCESSO_SELETIVO,A.DS_PROTOCOLO,A.DS_QUINSTREET,U.DS_REGIAO_GEOGRAFICA,U.DS_REGIONAL,A.DS_SEXO,A.DS_SITUACAO_CANDIDATO,A.DS_SITUACAO_CLASSIFICACAO,A.DS_SITUACAO_FIES,A.DS_SITUACAO_MATRICULA,A.DS_SITUACAO_TURMA,U.DS_SUPERVISOR,A.DS_TERMO,A.DS_TURMA,A.DS_UF,U.DS_UNIDADE_MKT,A.DT_APROVADO,A.DT_BASE,A.DT_CONVOCADO,A.DT_ENTRADA_BASE,A.DT_INSCRICAO,A.DT_MATRICULA,A.DT_NASCIMENTO,A.DT_PROVA,A.DT_SITUACAO_PMA,A.FL_ALUNO_PAGANTE,A.FL_APROVADO,A.FL_INSCRITO,A.FL_INSCRITO_PAGO,A.FL_MATRICULADO,A.FL_MATRICULADO_FIES,A.FL_MATRICULADO_PEP,A.FL_MATRICULADO_PROUNI,A.FL_NAO_MAT_EMISSAO_BOLETO,A.FL_NAO_MATRICULADO_PAGO,A.FL_PMA,A.FL_PMA_BOLETO,A.FL_PMA_FIES_CONDICIONAL,A.FL_PMA_PEP,A.FL_PROVA,A.FL_WINBACK_CAPTACAO,C.DS_ESPECIALIDADE_MKT AS NOME_CURSO,A.NR_CEP,A.NR_CPF,A.NR_TELEFONE_CELULAR,A.NR_TELEFONE_COMERCIAL,A.NR_TELEFONE_RESIDENCIAL,C.DS_TURNO AS TURNO,A.DS_PRIM_VENDEDOR FROM STAGE_SAS.TGT_BI_CAPTACAO_ANALITICO_FECH A LEFT JOIN BI.TB_DIM_UNDE_SCD U ON A.ID_UNDE_SCD = U.ID_UNDE_SCD LEFT JOIN STAGE_SAS.TGT_BI_DE_PARA_CURSO_UNIDADE C ON A.ID_UNDE_SCD = C.ID_UNDE_SCD AND (CASE WHEN A.CD_CURSO_MATRICULA IS NULL THEN A.CD_CURSO_INSCRICAO ELSE A.CD_CURSO_MATRICULA END) = C.CD_ESPECIALIDADE AND C.DS_PERIODO_LETIVO = '20191' WHERE A.DS_PERIODO_LETIVO = '20191' AND A.DT_BASE = '08/01/2019' AND A.DS_MODALIDADE = 'EAD' AND A.CD_CANDIDATO IN('12920879','12920884','12920887')\""
   ]
  },
  {
   "cell_type": "code",
   "execution_count": 121,
   "metadata": {},
   "outputs": [],
   "source": [
    "sql_teste =\"SELECT A.DS_BOLSAS_ALUNO AS BOLSA_ALUNO_TMP,A.CD_BOLSAS_ALUNO,A.CD_CANDIDATO,A.CD_CHAVE_ALUNO,A.CD_CURSO_INSCRICAO,A.CD_CURSO_MATRICULA,A.CD_RA,U.CD_UNIDADE,A.CD_VENDEDOR,C.CD_ESPECIALIDADE AS CODIGO_CURSO,A.DS_BAIRRO,A.DS_BOLSA_VIGENTE_ALUNO,A.DS_BOLSAS_ALUNO,U.DS_CANAL,A.DS_CANAL_CONSULTOR,A.DS_CANAL_VENDAS,A.DS_CIDADE,U.DS_CONSULTOR,C.DS_COORDENADOR_CURSO,A.DS_CURSO_INSCRICAO AS DS_CURSO_INSCRICAO_MKT,A.DS_CURSO_MATRICULA AS DS_CURSO_MATRICULA_MKT,C.DS_ESPECIALIDADE AS DS_CURSO_ORIG,U.DS_DIRETOR,A.DS_EMAIL,A.DS_EMPRESA,CASE WHEN UPPER(U.DS_UNIDADE_MKT) LIKE '%[ANHANGUERA]%' THEN 'ANHANGUERA' WHEN UPPER(U.DS_UNIDADE_MKT) LIKE '%[UNOPAR]%' THEN 'UNOPAR' ELSE 'KROTON' END AS DS_EMPRESA_UNOPAR,A.DS_ENDERECO,U.DS_GERENTE,U.DS_GERENTE_MERCADO,U.DS_GERENTE_SENIOR,U.DS_MARCA,U.DS_MARCA_DETALHE,U.DS_MARCA_DETALHE AS DS_MARCA_DETALHE_UNOPAR,A.DS_MODALIDADE,A.DS_MODALIDADE_EAD,A.DS_NOME_CANDIDATO_ALUNO,U.DS_ORIGEM,A.DS_PARCEIRO,A.DS_PERIODO_LETIVO,A.DS_PROCESSO_SELETIVO,A.DS_PROTOCOLO,A.DS_QUINSTREET,U.DS_REGIAO_GEOGRAFICA,U.DS_REGIONAL,A.DS_SEXO,A.DS_SITUACAO_CANDIDATO,A.DS_SITUACAO_CLASSIFICACAO,A.DS_SITUACAO_FIES,A.DS_SITUACAO_MATRICULA,A.DS_SITUACAO_TURMA,U.DS_SUPERVISOR,A.DS_TERMO,A.DS_TURMA,A.DS_UF,U.DS_UNIDADE_MKT,A.DT_APROVADO,A.DT_BASE,A.DT_CONVOCADO,A.DT_ENTRADA_BASE,A.DT_INSCRICAO,A.DT_MATRICULA,A.DT_NASCIMENTO,A.DT_PROVA,A.DT_SITUACAO_PMA,A.FL_ALUNO_PAGANTE,A.FL_APROVADO,A.FL_INSCRITO,A.FL_INSCRITO_PAGO,A.FL_MATRICULADO,A.FL_MATRICULADO_FIES,A.FL_MATRICULADO_PEP,A.FL_MATRICULADO_PROUNI,A.FL_NAO_MAT_EMISSAO_BOLETO,A.FL_NAO_MATRICULADO_PAGO,A.FL_PMA,A.FL_PMA_BOLETO,A.FL_PMA_FIES_CONDICIONAL,A.FL_PMA_PEP,A.FL_PROVA,A.FL_WINBACK_CAPTACAO,C.DS_ESPECIALIDADE_MKT AS NOME_CURSO,A.NR_CEP,A.NR_CPF,A.NR_TELEFONE_CELULAR,A.NR_TELEFONE_COMERCIAL,A.NR_TELEFONE_RESIDENCIAL,C.DS_TURNO AS TURNO,A.DS_PRIM_VENDEDOR FROM STAGE_SAS.TGT_BI_CAPTACAO_ANALITICO_FECH A LEFT JOIN BI.TB_DIM_UNDE_SCD U ON A.ID_UNDE_SCD = U.ID_UNDE_SCD LEFT JOIN STAGE_SAS.TGT_BI_DE_PARA_CURSO_UNIDADE C ON A.ID_UNDE_SCD = C.ID_UNDE_SCD AND (CASE WHEN A.CD_CURSO_MATRICULA IS NULL THEN A.CD_CURSO_INSCRICAO ELSE A.CD_CURSO_MATRICULA END) = C.CD_ESPECIALIDADE AND C.DS_PERIODO_LETIVO = '20191' WHERE A.DS_PERIODO_LETIVO = '20191' AND A.DT_BASE = '08/01/2019' AND A.DS_MODALIDADE = 'EAD' AND A.CD_CANDIDATO IN('12920879','12920884','12920887')\""
   ]
  },
  {
   "cell_type": "code",
   "execution_count": 127,
   "metadata": {
    "scrolled": false
   },
   "outputs": [
    {
     "data": {
      "text/plain": [
       "\"SELECT A.DS_BOLSAS_ALUNO AS BOLSA_ALUNO_TMP, A.CD_BOLSAS_ALUNO,A.CD_CANDIDATO, A.CD_CHAVE_ALUNO,A.CD_CURSO_INSCRICAO,A.CD_CURSO_MATRICULA,A.CD_RA,U.CD_UNIDADE,A.CD_VENDEDOR,C.CD_ESPECIALIDADE AS CODIGO_CURSO,A.DS_BAIRRO,A.DS_BOLSA_VIGENTE_ALUNO,A.DS_BOLSAS_ALUNO,U.DS_CANAL,A.DS_CANAL_CONSULTOR,A.DS_CANAL_VENDAS,A.DS_CIDADE,U.DS_CONSULTOR,C.DS_COORDENADOR_CURSO,A.DS_CURSO_INSCRICAO AS DS_CURSO_INSCRICAO_MKT,A.DS_CURSO_MATRICULA AS DS_CURSO_MATRICULA_MKT,C.DS_ESPECIALIDADE AS DS_CURSO_ORIG,U.DS_DIRETOR,A.DS_EMAIL,A.DS_EMPRESA,CASE WHEN UPPER(U.DS_UNIDADE_MKT) LIKE '%[ANHANGUERA]%' THEN 'ANHANGUERA'WHEN UPPER(U.DS_UNIDADE_MKT) LIKE '%[UNOPAR]%' THEN 'UNOPAR' ELSE 'KROTON' END AS DS_EMPRESA_UNOPAR,A.DS_ENDERECO,U.DS_GERENTE,U.DS_GERENTE_MERCADO,U.DS_GERENTE_SENIOR,U.DS_MARCA,U.DS_MARCA_DETALHE,U.DS_MARCA_DETALHE AS DS_MARCA_DETALHE_UNOPAR,A.DS_MODALIDADE,A.DS_MODALIDADE_EAD,A.DS_NOME_CANDIDATO_ALUNO,U.DS_ORIGEM,A.DS_PARCEIRO,A.DS_PERIODO_LETIVO,A.DS_PROCESSO_SELETIVO,A.DS_PROTOCOLO,A.DS_QUINSTREET,U.DS_REGIAO_GEOGRAFICA,U.DS_REGIONAL,A.DS_SEXO,A.DS_SITUACAO_CANDIDATO,A.DS_SITUACAO_CLASSIFICACAO,A.DS_SITUACAO_FIES,A.DS_SITUACAO_MATRICULA,A.DS_SITUACAO_TURMA,U.DS_SUPERVISOR,A.DS_TERMO,A.DS_TURMA,A.DS_UF,U.DS_UNIDADE_MKT,A.DT_APROVADO,A.DT_BASE,A.DT_CONVOCADO,A.DT_ENTRADA_BASE,A.DT_INSCRICAO,A.DT_MATRICULA,A.DT_NASCIMENTO,A.DT_PROVA,A.DT_SITUACAO_PMA,A.FL_ALUNO_PAGANTE,A.FL_APROVADO,A.FL_INSCRITO,A.FL_INSCRITO_PAGO,A.FL_MATRICULADO,A.FL_MATRICULADO_FIES,A.FL_MATRICULADO_PEP,A.FL_MATRICULADO_PROUNI,A.FL_NAO_MAT_EMISSAO_BOLETO,A.FL_NAO_MATRICULADO_PAGO,A.FL_PMA,A.FL_PMA_BOLETO,A.FL_PMA_FIES_CONDICIONAL,A.FL_PMA_PEP,A.FL_PROVA,A.FL_WINBACK_CAPTACAO,C.DS_ESPECIALIDADE_MKT AS NOME_CURSO,A.NR_CEP,A.NR_CPF,A.NR_TELEFONE_CELULAR,A.NR_TELEFONE_COMERCIAL,A.NR_TELEFONE_RESIDENCIAL,C.DS_TURNO AS TURNO,A.DS_PRIM_VENDEDOR FROM STAGE_SAS.TGT_BI_CAPTACAO_ANALITICO_FECH A  LEFT JOIN BI.TB_DIM_UNDE_SCD U ON A.ID_UNDE_SCD = U.ID_UNDE_SCD LEFT JOIN STAGE_SAS.TGT_BI_DE_PARA_CURSO_UNIDADE C ON A.ID_UNDE_SCD = C.ID_UNDE_SCD AND (CASE WHEN A.CD_CURSO_MATRICULA IS NULL THEN A.CD_CURSO_INSCRICAO ELSE A.CD_CURSO_MATRICULA END) = C.CD_ESPECIALIDADE AND C.DS_PERIODO_LETIVO = '20191' WHERE A.DS_PERIODO_LETIVO = '20191' AND A.DT_BASE = '08/01/2019' AND A.DS_MODALIDADE = 'Presencial' AND A.CD_CANDIDATO IN ('114705031','115042267','114784777') UNION SELECT A.DS_BOLSAS_ALUNO AS BOLSA_ALUNO_TMP,A.CD_BOLSAS_ALUNO,A.CD_CANDIDATO,A.CD_CHAVE_ALUNO,A.CD_CURSO_INSCRICAO,A.CD_CURSO_MATRICULA,A.CD_RA,U.CD_UNIDADE,A.CD_VENDEDOR,C.CD_ESPECIALIDADE AS CODIGO_CURSO,A.DS_BAIRRO,A.DS_BOLSA_VIGENTE_ALUNO,A.DS_BOLSAS_ALUNO,U.DS_CANAL,A.DS_CANAL_CONSULTOR,A.DS_CANAL_VENDAS,A.DS_CIDADE,U.DS_CONSULTOR,C.DS_COORDENADOR_CURSO,A.DS_CURSO_INSCRICAO AS DS_CURSO_INSCRICAO_MKT,A.DS_CURSO_MATRICULA AS DS_CURSO_MATRICULA_MKT,C.DS_ESPECIALIDADE AS DS_CURSO_ORIG,U.DS_DIRETOR,A.DS_EMAIL,A.DS_EMPRESA,CASE WHEN UPPER(U.DS_UNIDADE_MKT) LIKE '%[ANHANGUERA]%' THEN 'ANHANGUERA' WHEN UPPER(U.DS_UNIDADE_MKT) LIKE '%[UNOPAR]%' THEN 'UNOPAR' ELSE 'KROTON' END AS DS_EMPRESA_UNOPAR,A.DS_ENDERECO,U.DS_GERENTE,U.DS_GERENTE_MERCADO,U.DS_GERENTE_SENIOR,U.DS_MARCA,U.DS_MARCA_DETALHE,U.DS_MARCA_DETALHE AS DS_MARCA_DETALHE_UNOPAR,A.DS_MODALIDADE,A.DS_MODALIDADE_EAD,A.DS_NOME_CANDIDATO_ALUNO,U.DS_ORIGEM,A.DS_PARCEIRO,A.DS_PERIODO_LETIVO,A.DS_PROCESSO_SELETIVO,A.DS_PROTOCOLO,A.DS_QUINSTREET,U.DS_REGIAO_GEOGRAFICA,U.DS_REGIONAL,A.DS_SEXO,A.DS_SITUACAO_CANDIDATO,A.DS_SITUACAO_CLASSIFICACAO,A.DS_SITUACAO_FIES,A.DS_SITUACAO_MATRICULA,A.DS_SITUACAO_TURMA,U.DS_SUPERVISOR,A.DS_TERMO,A.DS_TURMA,A.DS_UF,U.DS_UNIDADE_MKT,A.DT_APROVADO,A.DT_BASE,A.DT_CONVOCADO,A.DT_ENTRADA_BASE,A.DT_INSCRICAO,A.DT_MATRICULA,A.DT_NASCIMENTO,A.DT_PROVA,A.DT_SITUACAO_PMA,A.FL_ALUNO_PAGANTE,A.FL_APROVADO,A.FL_INSCRITO,A.FL_INSCRITO_PAGO,A.FL_MATRICULADO,A.FL_MATRICULADO_FIES,A.FL_MATRICULADO_PEP,A.FL_MATRICULADO_PROUNI,A.FL_NAO_MAT_EMISSAO_BOLETO,A.FL_NAO_MATRICULADO_PAGO,A.FL_PMA,A.FL_PMA_BOLETO,A.FL_PMA_FIES_CONDICIONAL,A.FL_PMA_PEP,A.FL_PROVA,A.FL_WINBACK_CAPTACAO,C.DS_ESPECIALIDADE_MKT AS NOME_CURSO,A.NR_CEP,A.NR_CPF,A.NR_TELEFONE_CELULAR,A.NR_TELEFONE_COMERCIAL,A.NR_TELEFONE_RESIDENCIAL,C.DS_TURNO AS TURNO,A.DS_PRIM_VENDEDOR FROM STAGE_SAS.TGT_BI_CAPTACAO_ANALITICO_FECH A LEFT JOIN BI.TB_DIM_UNDE_SCD U ON A.ID_UNDE_SCD = U.ID_UNDE_SCD LEFT JOIN STAGE_SAS.TGT_BI_DE_PARA_CURSO_UNIDADE C ON A.ID_UNDE_SCD = C.ID_UNDE_SCD AND (CASE WHEN A.CD_CURSO_MATRICULA IS NULL THEN A.CD_CURSO_INSCRICAO ELSE A.CD_CURSO_MATRICULA END) = C.CD_ESPECIALIDADE AND C.DS_PERIODO_LETIVO = '20191' WHERE A.DS_PERIODO_LETIVO = '20191' AND A.DT_BASE = '08/01/2019' AND A.DS_MODALIDADE = 'EAD' AND A.CD_CANDIDATO IN('12920879','12920884','12920887')\""
      ]
     },
     "execution_count": 127,
     "metadata": {},
     "output_type": "execute_result"
    }
   ],
   "source": [
    "sql_teste"
   ]
  },
  {
   "cell_type": "code",
   "execution_count": 128,
   "metadata": {},
   "outputs": [],
   "source": [
    "TGT_BI_RET = read_origin_to_pandas(sql=sql_teste, path=\"TESTE\", sep=',',\n",
    "                                           dtype={'ID_UNDE_SCD': object})"
   ]
  },
  {
   "cell_type": "code",
   "execution_count": 129,
   "metadata": {},
   "outputs": [
    {
     "data": {
      "text/html": [
       "<div>\n",
       "<style scoped>\n",
       "    .dataframe tbody tr th:only-of-type {\n",
       "        vertical-align: middle;\n",
       "    }\n",
       "\n",
       "    .dataframe tbody tr th {\n",
       "        vertical-align: top;\n",
       "    }\n",
       "\n",
       "    .dataframe thead th {\n",
       "        text-align: right;\n",
       "    }\n",
       "</style>\n",
       "<table border=\"1\" class=\"dataframe\">\n",
       "  <thead>\n",
       "    <tr style=\"text-align: right;\">\n",
       "      <th></th>\n",
       "      <th>BOLSA_ALUNO_TMP</th>\n",
       "      <th>CD_BOLSAS_ALUNO</th>\n",
       "      <th>CD_CANDIDATO</th>\n",
       "      <th>CD_CHAVE_ALUNO</th>\n",
       "      <th>CD_CURSO_INSCRICAO</th>\n",
       "      <th>CD_CURSO_MATRICULA</th>\n",
       "      <th>CD_RA</th>\n",
       "      <th>CD_UNIDADE</th>\n",
       "      <th>CD_VENDEDOR</th>\n",
       "      <th>CODIGO_CURSO</th>\n",
       "      <th>...</th>\n",
       "      <th>FL_PROVA</th>\n",
       "      <th>FL_WINBACK_CAPTACAO</th>\n",
       "      <th>NOME_CURSO</th>\n",
       "      <th>NR_CEP</th>\n",
       "      <th>NR_CPF</th>\n",
       "      <th>NR_TELEFONE_CELULAR</th>\n",
       "      <th>NR_TELEFONE_COMERCIAL</th>\n",
       "      <th>NR_TELEFONE_RESIDENCIAL</th>\n",
       "      <th>TURNO</th>\n",
       "      <th>DS_PRIM_VENDEDOR</th>\n",
       "    </tr>\n",
       "  </thead>\n",
       "  <tbody>\n",
       "    <tr>\n",
       "      <th>0</th>\n",
       "      <td>&lt;BOLSA CAPTAÇÃO&gt;&lt;BOLSA INCENTIVO&gt;&lt;BOLSA 1O SEM...</td>\n",
       "      <td>&lt;9C9Q&gt;&lt;9C9R&gt;&lt;9C9S&gt;&lt;9CDB&gt;&lt;9CDC&gt;</td>\n",
       "      <td>12920879</td>\n",
       "      <td>21705161</td>\n",
       "      <td>044</td>\n",
       "      <td>044</td>\n",
       "      <td>21705161</td>\n",
       "      <td>11088950</td>\n",
       "      <td>None</td>\n",
       "      <td>044</td>\n",
       "      <td>...</td>\n",
       "      <td>1</td>\n",
       "      <td>0</td>\n",
       "      <td>ADMINISTRACAO</td>\n",
       "      <td>89560-000</td>\n",
       "      <td>10500136971</td>\n",
       "      <td>(49) 9999-9999</td>\n",
       "      <td>None</td>\n",
       "      <td>None</td>\n",
       "      <td>Noturno</td>\n",
       "      <td>None</td>\n",
       "    </tr>\n",
       "    <tr>\n",
       "      <th>1</th>\n",
       "      <td>&lt;BOLSA CAPTAÇÃO&gt;&lt;BOLSA INCENTIVO&gt;&lt;BOLSA 1O SEM...</td>\n",
       "      <td>&lt;9C9Q&gt;&lt;9C9R&gt;&lt;9C9S&gt;&lt;9CDB&gt;&lt;9CDC&gt;</td>\n",
       "      <td>12920884</td>\n",
       "      <td>21763360</td>\n",
       "      <td>044</td>\n",
       "      <td>044</td>\n",
       "      <td>21763360</td>\n",
       "      <td>11088950</td>\n",
       "      <td>None</td>\n",
       "      <td>044</td>\n",
       "      <td>...</td>\n",
       "      <td>1</td>\n",
       "      <td>0</td>\n",
       "      <td>ADMINISTRACAO</td>\n",
       "      <td>89560-000</td>\n",
       "      <td>11861923996</td>\n",
       "      <td>(49) 99947-2792</td>\n",
       "      <td>None</td>\n",
       "      <td>None</td>\n",
       "      <td>Noturno</td>\n",
       "      <td>None</td>\n",
       "    </tr>\n",
       "    <tr>\n",
       "      <th>2</th>\n",
       "      <td>&lt;BOLSA CAPTAÇÃO&gt;&lt;BOLSA INCENTIVO&gt;&lt;BOLSA 1O SEM...</td>\n",
       "      <td>&lt;9C9Q&gt;&lt;9C9R&gt;&lt;9C9S&gt;&lt;9CDB&gt;&lt;9CDC&gt;</td>\n",
       "      <td>12920887</td>\n",
       "      <td>21763344</td>\n",
       "      <td>044</td>\n",
       "      <td>044</td>\n",
       "      <td>21763344</td>\n",
       "      <td>11088950</td>\n",
       "      <td>None</td>\n",
       "      <td>044</td>\n",
       "      <td>...</td>\n",
       "      <td>1</td>\n",
       "      <td>0</td>\n",
       "      <td>ADMINISTRACAO</td>\n",
       "      <td>89560-000</td>\n",
       "      <td>06111923900</td>\n",
       "      <td>(49) 99170-5115</td>\n",
       "      <td>None</td>\n",
       "      <td>None</td>\n",
       "      <td>Noturno</td>\n",
       "      <td>None</td>\n",
       "    </tr>\n",
       "    <tr>\n",
       "      <th>3</th>\n",
       "      <td>None</td>\n",
       "      <td>None</td>\n",
       "      <td>114705031</td>\n",
       "      <td>None</td>\n",
       "      <td>180</td>\n",
       "      <td>None</td>\n",
       "      <td>None</td>\n",
       "      <td>U</td>\n",
       "      <td>223829</td>\n",
       "      <td>180</td>\n",
       "      <td>...</td>\n",
       "      <td>0</td>\n",
       "      <td>0</td>\n",
       "      <td>PEDAGOGIA - LICENCIATURA</td>\n",
       "      <td>78.065-900</td>\n",
       "      <td>06145911123</td>\n",
       "      <td>(65) 99280-4263</td>\n",
       "      <td>None</td>\n",
       "      <td>None</td>\n",
       "      <td>Matutino</td>\n",
       "      <td>881830</td>\n",
       "    </tr>\n",
       "    <tr>\n",
       "      <th>4</th>\n",
       "      <td>None</td>\n",
       "      <td>None</td>\n",
       "      <td>114784777</td>\n",
       "      <td>None</td>\n",
       "      <td>2336</td>\n",
       "      <td>None</td>\n",
       "      <td>None</td>\n",
       "      <td>U</td>\n",
       "      <td>1040</td>\n",
       "      <td>2336</td>\n",
       "      <td>...</td>\n",
       "      <td>0</td>\n",
       "      <td>0</td>\n",
       "      <td>AGRONOMIA</td>\n",
       "      <td>78.065-900</td>\n",
       "      <td>06146222127</td>\n",
       "      <td>(65) 99236-0650</td>\n",
       "      <td>None</td>\n",
       "      <td>None</td>\n",
       "      <td>Noturno</td>\n",
       "      <td>449</td>\n",
       "    </tr>\n",
       "    <tr>\n",
       "      <th>5</th>\n",
       "      <td>None</td>\n",
       "      <td>None</td>\n",
       "      <td>115042267</td>\n",
       "      <td>None</td>\n",
       "      <td>2582</td>\n",
       "      <td>None</td>\n",
       "      <td>None</td>\n",
       "      <td>U</td>\n",
       "      <td>0</td>\n",
       "      <td>2582</td>\n",
       "      <td>...</td>\n",
       "      <td>0</td>\n",
       "      <td>0</td>\n",
       "      <td>PSICOLOGIA</td>\n",
       "      <td>78..120-48</td>\n",
       "      <td>06146160180</td>\n",
       "      <td>(65) 99273-5875</td>\n",
       "      <td>None</td>\n",
       "      <td>(65) 3691-5299</td>\n",
       "      <td>Noturno</td>\n",
       "      <td>0</td>\n",
       "    </tr>\n",
       "  </tbody>\n",
       "</table>\n",
       "<p>6 rows × 88 columns</p>\n",
       "</div>"
      ],
      "text/plain": [
       "                                     BOLSA_ALUNO_TMP  \\\n",
       "0  <BOLSA CAPTAÇÃO><BOLSA INCENTIVO><BOLSA 1O SEM...   \n",
       "1  <BOLSA CAPTAÇÃO><BOLSA INCENTIVO><BOLSA 1O SEM...   \n",
       "2  <BOLSA CAPTAÇÃO><BOLSA INCENTIVO><BOLSA 1O SEM...   \n",
       "3                                               None   \n",
       "4                                               None   \n",
       "5                                               None   \n",
       "\n",
       "                  CD_BOLSAS_ALUNO CD_CANDIDATO CD_CHAVE_ALUNO  \\\n",
       "0  <9C9Q><9C9R><9C9S><9CDB><9CDC>     12920879       21705161   \n",
       "1  <9C9Q><9C9R><9C9S><9CDB><9CDC>     12920884       21763360   \n",
       "2  <9C9Q><9C9R><9C9S><9CDB><9CDC>     12920887       21763344   \n",
       "3                            None    114705031           None   \n",
       "4                            None    114784777           None   \n",
       "5                            None    115042267           None   \n",
       "\n",
       "  CD_CURSO_INSCRICAO CD_CURSO_MATRICULA     CD_RA CD_UNIDADE CD_VENDEDOR  \\\n",
       "0                044                044  21705161   11088950        None   \n",
       "1                044                044  21763360   11088950        None   \n",
       "2                044                044  21763344   11088950        None   \n",
       "3                180               None      None          U      223829   \n",
       "4               2336               None      None          U        1040   \n",
       "5               2582               None      None          U           0   \n",
       "\n",
       "  CODIGO_CURSO       ...        FL_PROVA FL_WINBACK_CAPTACAO  \\\n",
       "0          044       ...               1                   0   \n",
       "1          044       ...               1                   0   \n",
       "2          044       ...               1                   0   \n",
       "3          180       ...               0                   0   \n",
       "4         2336       ...               0                   0   \n",
       "5         2582       ...               0                   0   \n",
       "\n",
       "                 NOME_CURSO      NR_CEP       NR_CPF NR_TELEFONE_CELULAR  \\\n",
       "0             ADMINISTRACAO   89560-000  10500136971      (49) 9999-9999   \n",
       "1             ADMINISTRACAO   89560-000  11861923996     (49) 99947-2792   \n",
       "2             ADMINISTRACAO   89560-000  06111923900     (49) 99170-5115   \n",
       "3  PEDAGOGIA - LICENCIATURA  78.065-900  06145911123     (65) 99280-4263   \n",
       "4                 AGRONOMIA  78.065-900  06146222127     (65) 99236-0650   \n",
       "5                PSICOLOGIA  78..120-48  06146160180     (65) 99273-5875   \n",
       "\n",
       "  NR_TELEFONE_COMERCIAL NR_TELEFONE_RESIDENCIAL     TURNO DS_PRIM_VENDEDOR  \n",
       "0                  None                    None   Noturno             None  \n",
       "1                  None                    None   Noturno             None  \n",
       "2                  None                    None   Noturno             None  \n",
       "3                  None                    None  Matutino           881830  \n",
       "4                  None                    None   Noturno              449  \n",
       "5                  None          (65) 3691-5299   Noturno                0  \n",
       "\n",
       "[6 rows x 88 columns]"
      ]
     },
     "execution_count": 129,
     "metadata": {},
     "output_type": "execute_result"
    }
   ],
   "source": [
    "TGT_BI_RET"
   ]
  },
  {
   "cell_type": "code",
   "execution_count": null,
   "metadata": {},
   "outputs": [],
   "source": []
  }
 ],
 "metadata": {
  "kernelspec": {
   "display_name": "Python 3",
   "language": "python",
   "name": "python3"
  },
  "language_info": {
   "codemirror_mode": {
    "name": "ipython",
    "version": 3
   },
   "file_extension": ".py",
   "mimetype": "text/x-python",
   "name": "python",
   "nbconvert_exporter": "python",
   "pygments_lexer": "ipython3",
   "version": "3.7.1"
  }
 },
 "nbformat": 4,
 "nbformat_minor": 2
}
