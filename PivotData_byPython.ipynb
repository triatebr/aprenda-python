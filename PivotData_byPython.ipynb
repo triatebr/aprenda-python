{
  "nbformat": 4,
  "nbformat_minor": 0,
  "metadata": {
    "colab": {
      "name": "PivotData_byPython.ipynb",
      "version": "0.3.2",
      "provenance": [],
      "collapsed_sections": [],
      "include_colab_link": true
    },
    "kernelspec": {
      "name": "python3",
      "display_name": "Python 3"
    }
  },
  "cells": [
    {
      "cell_type": "markdown",
      "metadata": {
        "id": "view-in-github",
        "colab_type": "text"
      },
      "source": [
        "<a href=\"https://colab.research.google.com/github/triatebr/aprenda-python/blob/master/PivotData_byPython.ipynb\" target=\"_parent\"><img src=\"https://colab.research.google.com/assets/colab-badge.svg\" alt=\"Open In Colab\"/></a>"
      ]
    },
    {
      "metadata": {
        "id": "GZ1liVu3pGwt",
        "colab_type": "code",
        "colab": {}
      },
      "cell_type": "code",
      "source": [
        "import pandas as pd"
      ],
      "execution_count": 0,
      "outputs": []
    },
    {
      "metadata": {
        "id": "GmZ-AW3ipIwC",
        "colab_type": "code",
        "colab": {}
      },
      "cell_type": "code",
      "source": [
        "df = pd.DataFrame({'ID': ['21678122','21678122','21678122','21678122','21678122','21678233','21678233','21678233','21678233','21678155', '21678155','21678155', '21678155','21678155', '21678155','21678154', '21678154', '21678154', '21678154','21678154','21678154'],\n",
        "                   'DATE': ['10/02/2019','11/09/2019','19/02/2019','26/02/2019','28/02/2019','02/02/2019','05/02/2019','25/02/2019','28/02/2019','01/02/2019','08/02/2019' ,'15/02/2019','22/02/2019', '25/02/2019','27/02/2019', '01/02/2019','05/02/2019','11/02/2019', '22/02/2019', '27/02/2019','28/02/2019'],\n",
        "                   'CURSO': ['Direito','Direito','Direito','Direito','Direito','Economia','Economia','Economia','Economia','Tecnólogo em Gestão Financeira','Tecnólogo em Gestão Financeira', 'Tecnólogo em Gestão Financeira','Tecnólogo em Gestão Financeira', 'Tecnólogo em Gestão Financeira', 'Tecnólogo em Gestão Financeira', 'Administração de Empresas', 'Administração de Empresas', 'Administração de Empresas','Administração de Empresas', 'Administração de Empresas','Administração de Empresas'],\n",
        "                   'PRECO': [454,456,489,478,499,897,845,852,841,221,225,250,265,290,244,348,345,356,360,385,391],\n",
        "                   'DESCONTO': [414,425,436,441,425,845,865,841,859,217,221,244,235,221,240,342,340,350,358,379,388]})"
      ],
      "execution_count": 0,
      "outputs": []
    },
    {
      "metadata": {
        "id": "eOq606WxpKxv",
        "colab_type": "code",
        "colab": {
          "base_uri": "https://localhost:8080/",
          "height": 700
        },
        "outputId": "b3c2220e-178a-4a32-927a-1fad0f7d4fa8"
      },
      "cell_type": "code",
      "source": [
        "df"
      ],
      "execution_count": 3,
      "outputs": [
        {
          "output_type": "execute_result",
          "data": {
            "text/html": [
              "<div>\n",
              "<style scoped>\n",
              "    .dataframe tbody tr th:only-of-type {\n",
              "        vertical-align: middle;\n",
              "    }\n",
              "\n",
              "    .dataframe tbody tr th {\n",
              "        vertical-align: top;\n",
              "    }\n",
              "\n",
              "    .dataframe thead th {\n",
              "        text-align: right;\n",
              "    }\n",
              "</style>\n",
              "<table border=\"1\" class=\"dataframe\">\n",
              "  <thead>\n",
              "    <tr style=\"text-align: right;\">\n",
              "      <th></th>\n",
              "      <th>CURSO</th>\n",
              "      <th>DATE</th>\n",
              "      <th>DESCONTO</th>\n",
              "      <th>ID</th>\n",
              "      <th>PRECO</th>\n",
              "    </tr>\n",
              "  </thead>\n",
              "  <tbody>\n",
              "    <tr>\n",
              "      <th>0</th>\n",
              "      <td>Direito</td>\n",
              "      <td>10/02/2019</td>\n",
              "      <td>414</td>\n",
              "      <td>21678122</td>\n",
              "      <td>454</td>\n",
              "    </tr>\n",
              "    <tr>\n",
              "      <th>1</th>\n",
              "      <td>Direito</td>\n",
              "      <td>11/09/2019</td>\n",
              "      <td>425</td>\n",
              "      <td>21678122</td>\n",
              "      <td>456</td>\n",
              "    </tr>\n",
              "    <tr>\n",
              "      <th>2</th>\n",
              "      <td>Direito</td>\n",
              "      <td>19/02/2019</td>\n",
              "      <td>436</td>\n",
              "      <td>21678122</td>\n",
              "      <td>489</td>\n",
              "    </tr>\n",
              "    <tr>\n",
              "      <th>3</th>\n",
              "      <td>Direito</td>\n",
              "      <td>26/02/2019</td>\n",
              "      <td>441</td>\n",
              "      <td>21678122</td>\n",
              "      <td>478</td>\n",
              "    </tr>\n",
              "    <tr>\n",
              "      <th>4</th>\n",
              "      <td>Direito</td>\n",
              "      <td>28/02/2019</td>\n",
              "      <td>425</td>\n",
              "      <td>21678122</td>\n",
              "      <td>499</td>\n",
              "    </tr>\n",
              "    <tr>\n",
              "      <th>5</th>\n",
              "      <td>Economia</td>\n",
              "      <td>02/02/2019</td>\n",
              "      <td>845</td>\n",
              "      <td>21678233</td>\n",
              "      <td>897</td>\n",
              "    </tr>\n",
              "    <tr>\n",
              "      <th>6</th>\n",
              "      <td>Economia</td>\n",
              "      <td>05/02/2019</td>\n",
              "      <td>865</td>\n",
              "      <td>21678233</td>\n",
              "      <td>845</td>\n",
              "    </tr>\n",
              "    <tr>\n",
              "      <th>7</th>\n",
              "      <td>Economia</td>\n",
              "      <td>25/02/2019</td>\n",
              "      <td>841</td>\n",
              "      <td>21678233</td>\n",
              "      <td>852</td>\n",
              "    </tr>\n",
              "    <tr>\n",
              "      <th>8</th>\n",
              "      <td>Economia</td>\n",
              "      <td>28/02/2019</td>\n",
              "      <td>859</td>\n",
              "      <td>21678233</td>\n",
              "      <td>841</td>\n",
              "    </tr>\n",
              "    <tr>\n",
              "      <th>9</th>\n",
              "      <td>Tecnólogo em Gestão Financeira</td>\n",
              "      <td>01/02/2019</td>\n",
              "      <td>217</td>\n",
              "      <td>21678155</td>\n",
              "      <td>221</td>\n",
              "    </tr>\n",
              "    <tr>\n",
              "      <th>10</th>\n",
              "      <td>Tecnólogo em Gestão Financeira</td>\n",
              "      <td>08/02/2019</td>\n",
              "      <td>221</td>\n",
              "      <td>21678155</td>\n",
              "      <td>225</td>\n",
              "    </tr>\n",
              "    <tr>\n",
              "      <th>11</th>\n",
              "      <td>Tecnólogo em Gestão Financeira</td>\n",
              "      <td>15/02/2019</td>\n",
              "      <td>244</td>\n",
              "      <td>21678155</td>\n",
              "      <td>250</td>\n",
              "    </tr>\n",
              "    <tr>\n",
              "      <th>12</th>\n",
              "      <td>Tecnólogo em Gestão Financeira</td>\n",
              "      <td>22/02/2019</td>\n",
              "      <td>235</td>\n",
              "      <td>21678155</td>\n",
              "      <td>265</td>\n",
              "    </tr>\n",
              "    <tr>\n",
              "      <th>13</th>\n",
              "      <td>Tecnólogo em Gestão Financeira</td>\n",
              "      <td>25/02/2019</td>\n",
              "      <td>221</td>\n",
              "      <td>21678155</td>\n",
              "      <td>290</td>\n",
              "    </tr>\n",
              "    <tr>\n",
              "      <th>14</th>\n",
              "      <td>Tecnólogo em Gestão Financeira</td>\n",
              "      <td>27/02/2019</td>\n",
              "      <td>240</td>\n",
              "      <td>21678155</td>\n",
              "      <td>244</td>\n",
              "    </tr>\n",
              "    <tr>\n",
              "      <th>15</th>\n",
              "      <td>Administração de Empresas</td>\n",
              "      <td>01/02/2019</td>\n",
              "      <td>342</td>\n",
              "      <td>21678154</td>\n",
              "      <td>348</td>\n",
              "    </tr>\n",
              "    <tr>\n",
              "      <th>16</th>\n",
              "      <td>Administração de Empresas</td>\n",
              "      <td>05/02/2019</td>\n",
              "      <td>340</td>\n",
              "      <td>21678154</td>\n",
              "      <td>345</td>\n",
              "    </tr>\n",
              "    <tr>\n",
              "      <th>17</th>\n",
              "      <td>Administração de Empresas</td>\n",
              "      <td>11/02/2019</td>\n",
              "      <td>350</td>\n",
              "      <td>21678154</td>\n",
              "      <td>356</td>\n",
              "    </tr>\n",
              "    <tr>\n",
              "      <th>18</th>\n",
              "      <td>Administração de Empresas</td>\n",
              "      <td>22/02/2019</td>\n",
              "      <td>358</td>\n",
              "      <td>21678154</td>\n",
              "      <td>360</td>\n",
              "    </tr>\n",
              "    <tr>\n",
              "      <th>19</th>\n",
              "      <td>Administração de Empresas</td>\n",
              "      <td>27/02/2019</td>\n",
              "      <td>379</td>\n",
              "      <td>21678154</td>\n",
              "      <td>385</td>\n",
              "    </tr>\n",
              "    <tr>\n",
              "      <th>20</th>\n",
              "      <td>Administração de Empresas</td>\n",
              "      <td>28/02/2019</td>\n",
              "      <td>388</td>\n",
              "      <td>21678154</td>\n",
              "      <td>391</td>\n",
              "    </tr>\n",
              "  </tbody>\n",
              "</table>\n",
              "</div>"
            ],
            "text/plain": [
              "                             CURSO        DATE  DESCONTO        ID  PRECO\n",
              "0                          Direito  10/02/2019       414  21678122    454\n",
              "1                          Direito  11/09/2019       425  21678122    456\n",
              "2                          Direito  19/02/2019       436  21678122    489\n",
              "3                          Direito  26/02/2019       441  21678122    478\n",
              "4                          Direito  28/02/2019       425  21678122    499\n",
              "5                         Economia  02/02/2019       845  21678233    897\n",
              "6                         Economia  05/02/2019       865  21678233    845\n",
              "7                         Economia  25/02/2019       841  21678233    852\n",
              "8                         Economia  28/02/2019       859  21678233    841\n",
              "9   Tecnólogo em Gestão Financeira  01/02/2019       217  21678155    221\n",
              "10  Tecnólogo em Gestão Financeira  08/02/2019       221  21678155    225\n",
              "11  Tecnólogo em Gestão Financeira  15/02/2019       244  21678155    250\n",
              "12  Tecnólogo em Gestão Financeira  22/02/2019       235  21678155    265\n",
              "13  Tecnólogo em Gestão Financeira  25/02/2019       221  21678155    290\n",
              "14  Tecnólogo em Gestão Financeira  27/02/2019       240  21678155    244\n",
              "15       Administração de Empresas  01/02/2019       342  21678154    348\n",
              "16       Administração de Empresas  05/02/2019       340  21678154    345\n",
              "17       Administração de Empresas  11/02/2019       350  21678154    356\n",
              "18       Administração de Empresas  22/02/2019       358  21678154    360\n",
              "19       Administração de Empresas  27/02/2019       379  21678154    385\n",
              "20       Administração de Empresas  28/02/2019       388  21678154    391"
            ]
          },
          "metadata": {
            "tags": []
          },
          "execution_count": 3
        }
      ]
    },
    {
      "metadata": {
        "id": "aZrtmnHxpTf2",
        "colab_type": "text"
      },
      "cell_type": "markdown",
      "source": [
        "**AGRUPANDO** dados de PREÇO e DATA por **ID**"
      ]
    },
    {
      "metadata": {
        "id": "TrefXVR2pQjr",
        "colab_type": "code",
        "colab": {}
      },
      "cell_type": "code",
      "source": [
        "#começamos pela data\n",
        "def custom(series):\n",
        "    min_date = list(series)[0]\n",
        "    pen_date = list(series)[-2]\n",
        "    max_date = list(series)[-1]\n",
        "    \n",
        "    return min_date,pen_date,max_date"
      ],
      "execution_count": 0,
      "outputs": []
    },
    {
      "metadata": {
        "id": "PCwZQwqQpkwZ",
        "colab_type": "code",
        "colab": {}
      },
      "cell_type": "code",
      "source": [
        "#depois vamos para o preço\n",
        "def get_price(series):\n",
        "    price_a = list(series)[0]\n",
        "    price_c = list(series)[-2]\n",
        "    price_b = list(series)[-1]\n",
        "    \n",
        "    return price_a,price_c,price_b"
      ],
      "execution_count": 0,
      "outputs": []
    },
    {
      "metadata": {
        "id": "ABMtKfTVpo_n",
        "colab_type": "code",
        "colab": {}
      },
      "cell_type": "code",
      "source": [
        "#para o AGRUPAMENTO funcionar temos que atribui-lo ao um DF\n",
        "dfa=df.groupby([\"ID\"], as_index=False).agg({\"DATE\":custom,\"PRECO\":get_price})"
      ],
      "execution_count": 0,
      "outputs": []
    },
    {
      "metadata": {
        "id": "0DFua1WJp6l3",
        "colab_type": "code",
        "colab": {
          "base_uri": "https://localhost:8080/",
          "height": 173
        },
        "outputId": "57e98bcb-57dc-46ad-a44f-7f20c058f82a"
      },
      "cell_type": "code",
      "source": [
        "#agrupamento realizado, nota-se que TODAS as datas estão juntas e os valores idem\n",
        "dfa"
      ],
      "execution_count": 7,
      "outputs": [
        {
          "output_type": "execute_result",
          "data": {
            "text/html": [
              "<div>\n",
              "<style scoped>\n",
              "    .dataframe tbody tr th:only-of-type {\n",
              "        vertical-align: middle;\n",
              "    }\n",
              "\n",
              "    .dataframe tbody tr th {\n",
              "        vertical-align: top;\n",
              "    }\n",
              "\n",
              "    .dataframe thead th {\n",
              "        text-align: right;\n",
              "    }\n",
              "</style>\n",
              "<table border=\"1\" class=\"dataframe\">\n",
              "  <thead>\n",
              "    <tr style=\"text-align: right;\">\n",
              "      <th></th>\n",
              "      <th>ID</th>\n",
              "      <th>DATE</th>\n",
              "      <th>PRECO</th>\n",
              "    </tr>\n",
              "  </thead>\n",
              "  <tbody>\n",
              "    <tr>\n",
              "      <th>0</th>\n",
              "      <td>21678122</td>\n",
              "      <td>(10/02/2019, 26/02/2019, 28/02/2019)</td>\n",
              "      <td>(454, 478, 499)</td>\n",
              "    </tr>\n",
              "    <tr>\n",
              "      <th>1</th>\n",
              "      <td>21678154</td>\n",
              "      <td>(01/02/2019, 27/02/2019, 28/02/2019)</td>\n",
              "      <td>(348, 385, 391)</td>\n",
              "    </tr>\n",
              "    <tr>\n",
              "      <th>2</th>\n",
              "      <td>21678155</td>\n",
              "      <td>(01/02/2019, 25/02/2019, 27/02/2019)</td>\n",
              "      <td>(221, 290, 244)</td>\n",
              "    </tr>\n",
              "    <tr>\n",
              "      <th>3</th>\n",
              "      <td>21678233</td>\n",
              "      <td>(02/02/2019, 25/02/2019, 28/02/2019)</td>\n",
              "      <td>(897, 852, 841)</td>\n",
              "    </tr>\n",
              "  </tbody>\n",
              "</table>\n",
              "</div>"
            ],
            "text/plain": [
              "         ID                                  DATE            PRECO\n",
              "0  21678122  (10/02/2019, 26/02/2019, 28/02/2019)  (454, 478, 499)\n",
              "1  21678154  (01/02/2019, 27/02/2019, 28/02/2019)  (348, 385, 391)\n",
              "2  21678155  (01/02/2019, 25/02/2019, 27/02/2019)  (221, 290, 244)\n",
              "3  21678233  (02/02/2019, 25/02/2019, 28/02/2019)  (897, 852, 841)"
            ]
          },
          "metadata": {
            "tags": []
          },
          "execution_count": 7
        }
      ]
    },
    {
      "metadata": {
        "id": "KV-moQP7qIb5",
        "colab_type": "text"
      },
      "cell_type": "markdown",
      "source": [
        "**SEPARAR** datas e valores\n",
        "\n"
      ]
    },
    {
      "metadata": {
        "id": "7pESAaIOqFQ3",
        "colab_type": "code",
        "colab": {}
      },
      "cell_type": "code",
      "source": [
        "#cria-se uma função para levantar e limpar os dados (data e preço)\n",
        "def get_data_price(row, index):\n",
        "    #recuperando do dados\n",
        "    date  = str(row['DATE']).split(',')[index]\n",
        "    price = str(row['PRECO']).split(',')[index]\n",
        "    \n",
        "    #limpeza de dados\n",
        "    date  = date.replace(\"(\",\"\").replace(\")\",\"\")\n",
        "    price = price.replace(\"(\",\"\").replace(\")\",\"\")\n",
        "    \n",
        "    return pd.Series([date,price])"
      ],
      "execution_count": 0,
      "outputs": []
    },
    {
      "metadata": {
        "id": "fYsu-d_RqVhu",
        "colab_type": "code",
        "colab": {}
      },
      "cell_type": "code",
      "source": [
        "#atribui-se agora o 1º, penúltimo e último preço e data\n",
        "dfa[[\"1a_data\",\"1o_preço\"]] = dfa.apply(lambda row: get_data_price(row,0),axis = 1)\n",
        "dfa[[\"pen_data\",\"pen_preço\"]] = dfa.apply(lambda row: get_data_price(row,1),axis = 1)\n",
        "dfa[[\"ult_data\",\"ult_preço\"]] = dfa.apply(lambda row: get_data_price(row,2),axis = 1)"
      ],
      "execution_count": 0,
      "outputs": []
    },
    {
      "metadata": {
        "id": "h-d0l1qVqX4z",
        "colab_type": "code",
        "colab": {
          "base_uri": "https://localhost:8080/",
          "height": 173
        },
        "outputId": "ae7315e5-1088-4d92-fcd3-b679b23c6c97"
      },
      "cell_type": "code",
      "source": [
        "#deletar a coluna DATE e PRECO, sem funcionalidade a partir de agora\n",
        "dfa.drop(['DATE','PRECO'],axis = 1)"
      ],
      "execution_count": 10,
      "outputs": [
        {
          "output_type": "execute_result",
          "data": {
            "text/html": [
              "<div>\n",
              "<style scoped>\n",
              "    .dataframe tbody tr th:only-of-type {\n",
              "        vertical-align: middle;\n",
              "    }\n",
              "\n",
              "    .dataframe tbody tr th {\n",
              "        vertical-align: top;\n",
              "    }\n",
              "\n",
              "    .dataframe thead th {\n",
              "        text-align: right;\n",
              "    }\n",
              "</style>\n",
              "<table border=\"1\" class=\"dataframe\">\n",
              "  <thead>\n",
              "    <tr style=\"text-align: right;\">\n",
              "      <th></th>\n",
              "      <th>ID</th>\n",
              "      <th>1a_data</th>\n",
              "      <th>1o_preço</th>\n",
              "      <th>pen_data</th>\n",
              "      <th>pen_preço</th>\n",
              "      <th>ult_data</th>\n",
              "      <th>ult_preço</th>\n",
              "    </tr>\n",
              "  </thead>\n",
              "  <tbody>\n",
              "    <tr>\n",
              "      <th>0</th>\n",
              "      <td>21678122</td>\n",
              "      <td>'10/02/2019'</td>\n",
              "      <td>454</td>\n",
              "      <td>'26/02/2019'</td>\n",
              "      <td>478</td>\n",
              "      <td>'28/02/2019'</td>\n",
              "      <td>499</td>\n",
              "    </tr>\n",
              "    <tr>\n",
              "      <th>1</th>\n",
              "      <td>21678154</td>\n",
              "      <td>'01/02/2019'</td>\n",
              "      <td>348</td>\n",
              "      <td>'27/02/2019'</td>\n",
              "      <td>385</td>\n",
              "      <td>'28/02/2019'</td>\n",
              "      <td>391</td>\n",
              "    </tr>\n",
              "    <tr>\n",
              "      <th>2</th>\n",
              "      <td>21678155</td>\n",
              "      <td>'01/02/2019'</td>\n",
              "      <td>221</td>\n",
              "      <td>'25/02/2019'</td>\n",
              "      <td>290</td>\n",
              "      <td>'27/02/2019'</td>\n",
              "      <td>244</td>\n",
              "    </tr>\n",
              "    <tr>\n",
              "      <th>3</th>\n",
              "      <td>21678233</td>\n",
              "      <td>'02/02/2019'</td>\n",
              "      <td>897</td>\n",
              "      <td>'25/02/2019'</td>\n",
              "      <td>852</td>\n",
              "      <td>'28/02/2019'</td>\n",
              "      <td>841</td>\n",
              "    </tr>\n",
              "  </tbody>\n",
              "</table>\n",
              "</div>"
            ],
            "text/plain": [
              "         ID       1a_data 1o_preço       pen_data pen_preço       ult_data  \\\n",
              "0  21678122  '10/02/2019'      454   '26/02/2019'       478   '28/02/2019'   \n",
              "1  21678154  '01/02/2019'      348   '27/02/2019'       385   '28/02/2019'   \n",
              "2  21678155  '01/02/2019'      221   '25/02/2019'       290   '27/02/2019'   \n",
              "3  21678233  '02/02/2019'      897   '25/02/2019'       852   '28/02/2019'   \n",
              "\n",
              "  ult_preço  \n",
              "0       499  \n",
              "1       391  \n",
              "2       244  \n",
              "3       841  "
            ]
          },
          "metadata": {
            "tags": []
          },
          "execution_count": 10
        }
      ]
    }
  ]
}