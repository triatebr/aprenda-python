{
  "nbformat": 4,
  "nbformat_minor": 0,
  "metadata": {
    "colab": {
      "name": "OPenDatavf.ipynb",
      "version": "0.3.2",
      "provenance": [],
      "collapsed_sections": [],
      "include_colab_link": true
    },
    "kernelspec": {
      "name": "python3",
      "display_name": "Python 3"
    }
  },
  "cells": [
    {
      "cell_type": "markdown",
      "metadata": {
        "id": "view-in-github",
        "colab_type": "text"
      },
      "source": [
        "<a href=\"https://colab.research.google.com/github/triatebr/aprenda-python/blob/master/OPenData-Caipyra2019.ipynb\" target=\"_parent\"><img src=\"https://colab.research.google.com/assets/colab-badge.svg\" alt=\"Open In Colab\"/></a>"
      ]
    },
    {
      "cell_type": "markdown",
      "metadata": {
        "id": "baCo8xMkk4X3",
        "colab_type": "text"
      },
      "source": [
        "![logos](https://mundogeo.com/wp-content/uploads/2014/01/Plataforma-Dados-Abertos.jpg)\n"
      ]
    },
    {
      "cell_type": "code",
      "metadata": {
        "id": "9ODlU6jzky3e",
        "colab_type": "code",
        "colab": {}
      },
      "source": [
        "import pandas as pd\n",
        "import seaborn as sns\n",
        "import numpy as np\n",
        "import io\n",
        "import matplotlib.pyplot as plt\n",
        "%matplotlib inline"
      ],
      "execution_count": 0,
      "outputs": []
    },
    {
      "cell_type": "code",
      "metadata": {
        "id": "k_XZ38T6mcLl",
        "colab_type": "code",
        "colab": {}
      },
      "source": [
        "# Tabela de solicitações de reconhecimento da condição de refugiado - 1994 (primeiro registro disponível) a 13 de março de 2019\n",
        "# Fonte dos dados: http://dados.gov.br/dataset/comite-nacional-para-os-refugiados\n",
        "url = 'https://www.justica.gov.br/seus-direitos/refugio/anexos/1990-a-2019-solicitacoes-de-reconhecimento-da-condicao-de-refugiado.xlsx'"
      ],
      "execution_count": 0,
      "outputs": []
    },
    {
      "cell_type": "code",
      "metadata": {
        "id": "3SW_HkYimpb7",
        "colab_type": "code",
        "colab": {}
      },
      "source": [
        "dfs = pd.read_excel(url,enconding='latin',delimiter=\";\")"
      ],
      "execution_count": 0,
      "outputs": []
    },
    {
      "cell_type": "code",
      "metadata": {
        "id": "8sEpxQ3Km8Jo",
        "colab_type": "code",
        "colab": {}
      },
      "source": [
        "# Visualização das 5 primeiras linhas do dataframe, mas caso prefira mais linhas? insira o numero entre os '()'\n",
        "# Costuma-se usar nome sugestivos para os Dataframes, com foco na facilidade de lembrar e usar\n",
        "dfs.head()"
      ],
      "execution_count": 0,
      "outputs": []
    },
    {
      "cell_type": "code",
      "metadata": {
        "id": "nwdMNeblpFbs",
        "colab_type": "code",
        "colab": {}
      },
      "source": [
        "# Quantidade de linhas e colunas do dataframe\n",
        "dfs.shape"
      ],
      "execution_count": 0,
      "outputs": []
    },
    {
      "cell_type": "code",
      "metadata": {
        "id": "Qx5bqo5DpIYz",
        "colab_type": "code",
        "colab": {}
      },
      "source": [
        "# Todas as colunas do dataframe\n",
        "dfs.columns"
      ],
      "execution_count": 0,
      "outputs": []
    },
    {
      "cell_type": "code",
      "metadata": {
        "id": "nZv5FTSApHzq",
        "colab_type": "code",
        "colab": {}
      },
      "source": [
        "# Após a importação e visualização, como serão as colunas e características do nosso Dataframe?\n",
        "dfs.dtypes"
      ],
      "execution_count": 0,
      "outputs": []
    },
    {
      "cell_type": "markdown",
      "metadata": {
        "id": "KvDUKjk6p3fv",
        "colab_type": "text"
      },
      "source": [
        "Informação **NACIONALIDADE**"
      ]
    },
    {
      "cell_type": "code",
      "metadata": {
        "id": "Gc5fA11SpGK2",
        "colab_type": "code",
        "colab": {}
      },
      "source": [
        "# Para sabermos os valores únicos de uma determinada coluna, usamos o 'unique()'\n",
        "dfs['Nacionalidade'].unique()"
      ],
      "execution_count": 0,
      "outputs": []
    },
    {
      "cell_type": "code",
      "metadata": {
        "id": "g5bbn_u8p0q3",
        "colab_type": "code",
        "colab": {}
      },
      "source": [
        "# Agrupando dados, inicialmente por Nacionalidade\n",
        "dfs['Nacionalidade'].value_counts()"
      ],
      "execution_count": 0,
      "outputs": []
    },
    {
      "cell_type": "code",
      "metadata": {
        "id": "BFoh58aOqIx8",
        "colab_type": "code",
        "colab": {}
      },
      "source": [
        "#selecionando uma Nacionalidade específica\n",
        "dfs.loc[(dfs['Nacionalidade'] == 'BOLÍVIA')]"
      ],
      "execution_count": 0,
      "outputs": []
    },
    {
      "cell_type": "code",
      "metadata": {
        "id": "rW4l5-lzrPSO",
        "colab_type": "code",
        "colab": {}
      },
      "source": [
        "dfs.loc[(dfs['Nacionalidade'] == 'BOLÍVIA')  & (dfs['UF'] =='AM')]"
      ],
      "execution_count": 0,
      "outputs": []
    },
    {
      "cell_type": "code",
      "metadata": {
        "id": "hhkoktMiq38N",
        "colab_type": "code",
        "colab": {}
      },
      "source": [
        "#selecionando + de 1 Nacionalidade específica\n",
        "dfs.loc[(dfs['Nacionalidade'] == 'UZBEQUISTÃO')  | (dfs['Nacionalidade'] =='ESTÔNIA')]"
      ],
      "execution_count": 0,
      "outputs": []
    },
    {
      "cell_type": "code",
      "metadata": {
        "id": "LX-mg6y7sANw",
        "colab_type": "code",
        "colab": {}
      },
      "source": [
        "# Agrupando dados por Estado\n",
        "dfs['UF'].value_counts()"
      ],
      "execution_count": 0,
      "outputs": []
    },
    {
      "cell_type": "code",
      "metadata": {
        "id": "CRqJTQxxsYMP",
        "colab_type": "code",
        "colab": {}
      },
      "source": [
        "dfs['UF'].value_counts(dropna=False, normalize=True)"
      ],
      "execution_count": 0,
      "outputs": []
    },
    {
      "cell_type": "markdown",
      "metadata": {
        "id": "lXlFeM50uB59",
        "colab_type": "text"
      },
      "source": [
        "![logos](https://d1nhio0ox7pgb.cloudfront.net/_img/o_collection_png/green_dark_grey/256x256/plain/table.png)"
      ]
    },
    {
      "cell_type": "markdown",
      "metadata": {
        "id": "LGEptXHasqTm",
        "colab_type": "text"
      },
      "source": [
        "Outro **Dataframe** agora ..."
      ]
    },
    {
      "cell_type": "code",
      "metadata": {
        "colab_type": "code",
        "id": "ogY0OYGBmvcu",
        "colab": {}
      },
      "source": [
        "# Tabela com decisões sobre pedidos de reconhecimento da condição de refugiado - ACNUR (1993-1997) e Conare (1998 a janeiro de 2019)\n",
        "# Fonte dos dados: http://dados.gov.br/dataset/comite-nacional-para-os-refugiados\n",
        "url1 = 'https://www.justica.gov.br/seus-direitos/refugio/anexos/decisoes-conare-ate-jan-2019.xlsx'"
      ],
      "execution_count": 0,
      "outputs": []
    },
    {
      "cell_type": "code",
      "metadata": {
        "colab_type": "code",
        "id": "aYQnzRlumvcz",
        "colab": {}
      },
      "source": [
        "# Vamos utilizar os dados de 2019, no arquivo Excel há uma ABA chamada 'jan-2019'\n",
        "df19 = pd.read_excel(url1,enconding='latin',delimiter=\";\", sheet_name='jan-2019')"
      ],
      "execution_count": 0,
      "outputs": []
    },
    {
      "cell_type": "code",
      "metadata": {
        "colab_type": "code",
        "id": "wSXQ2DF4nEv-",
        "colab": {}
      },
      "source": [
        "df19 = df19.drop(['TOTAL= 115'], axis=1)"
      ],
      "execution_count": 0,
      "outputs": []
    },
    {
      "cell_type": "code",
      "metadata": {
        "colab_type": "code",
        "id": "1sY3EzW_vLZt",
        "colab": {}
      },
      "source": [
        "#selecionando uma Nacionalidade específica\n",
        "df19.loc[(df19['PAÍS DE ORIGEM'] == 'CUBA')]"
      ],
      "execution_count": 0,
      "outputs": []
    },
    {
      "cell_type": "code",
      "metadata": {
        "id": "PSEuEbIkpKm2",
        "colab_type": "code",
        "colab": {}
      },
      "source": [
        "df19.loc[(df19['PAÍS DE ORIGEM'] == 'ANGOLA')]"
      ],
      "execution_count": 0,
      "outputs": []
    },
    {
      "cell_type": "code",
      "metadata": {
        "id": "LTzFgPs6rQUL",
        "colab_type": "code",
        "colab": {}
      },
      "source": [
        "df19['CIDADE SOLICITAÇÃO'].value_counts()"
      ],
      "execution_count": 0,
      "outputs": []
    },
    {
      "cell_type": "code",
      "metadata": {
        "id": "TEh6Cwsfn_zY",
        "colab_type": "code",
        "colab": {}
      },
      "source": [
        "df19['STATUS'].value_counts()"
      ],
      "execution_count": 0,
      "outputs": []
    },
    {
      "cell_type": "code",
      "metadata": {
        "id": "FSvpyGqnqJhn",
        "colab_type": "code",
        "colab": {}
      },
      "source": [
        "df19['STATUS'].value_counts(dropna=False, normalize=True)"
      ],
      "execution_count": 0,
      "outputs": []
    },
    {
      "cell_type": "code",
      "metadata": {
        "id": "YpC0MSOkpb0K",
        "colab_type": "code",
        "colab": {}
      },
      "source": [
        "df19.loc[(df19['STATUS'] == 'ELIGIBILIDADE - INDEFERIDO')]"
      ],
      "execution_count": 0,
      "outputs": []
    }
  ]
}