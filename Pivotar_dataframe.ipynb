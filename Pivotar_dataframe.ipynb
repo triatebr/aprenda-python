{
  "nbformat": 4,
  "nbformat_minor": 0,
  "metadata": {
    "colab": {
      "name": "Pivotar_dataframe.ipynb",
      "version": "0.3.2",
      "provenance": [],
      "collapsed_sections": [],
      "include_colab_link": true
    },
    "kernelspec": {
      "display_name": "Python 3",
      "language": "python",
      "name": "python3"
    }
  },
  "cells": [
    {
      "cell_type": "markdown",
      "metadata": {
        "id": "view-in-github",
        "colab_type": "text"
      },
      "source": [
        "<a href=\"https://colab.research.google.com/github/triatebr/aprenda-python/blob/master/Pivotar_dataframe.ipynb\" target=\"_parent\"><img src=\"https://colab.research.google.com/assets/colab-badge.svg\" alt=\"Open In Colab\"/></a>"
      ]
    },
    {
      "metadata": {
        "id": "f_HKJbhH7SX6",
        "colab_type": "code",
        "colab": {}
      },
      "cell_type": "code",
      "source": [
        "import pandas as pd"
      ],
      "execution_count": 0,
      "outputs": []
    },
    {
      "metadata": {
        "id": "9Ape55Hw7SYd",
        "colab_type": "code",
        "colab": {}
      },
      "cell_type": "code",
      "source": [
        "df = pd.DataFrame({'ID': ['21678155', '21678155','21678155', '21678155','21678155', '21678155','21678154', '21678154', '21678154', '21678154','21678154','21678154'],\n",
        "                   'DATE': ['01/02/2019','08/02/2019' ,'15/02/2019','22/02/2019', '25/02/2019','27/02/2019', '01/02/2019','05/02/2019','11/02/2019', '22/02/2019', '27/02/2019','28/02/2019'],\n",
        "                   'CURSO': ['Tecnólogo em Gestão Financeira','Tecnólogo em Gestão Financeira', 'Tecnólogo em Gestão Financeira','Tecnólogo em Gestão Financeira', 'Tecnólogo em Gestão Financeira', 'Tecnólogo em Gestão Financeira', 'Administração de Empresas', 'Administração de Empresas', 'Administração de Empresas','Administração de Empresas', 'Administração de Empresas','Administração de Empresas'],\n",
        "                   'PRECO': [221,225,250,265,290,244,348,345,356,360,385,391],\n",
        "                   'DESCONTO': [217,221,244,235,221,240,342,340,350,358,379,388]})"
      ],
      "execution_count": 0,
      "outputs": []
    },
    {
      "metadata": {
        "id": "DydCyruG7SYp",
        "colab_type": "code",
        "colab": {
          "base_uri": "https://localhost:8080/",
          "height": 421
        },
        "outputId": "a3f0029c-33fe-41d8-f866-d46f56d19683"
      },
      "cell_type": "code",
      "source": [
        "df"
      ],
      "execution_count": 3,
      "outputs": [
        {
          "output_type": "execute_result",
          "data": {
            "text/html": [
              "<div>\n",
              "<style scoped>\n",
              "    .dataframe tbody tr th:only-of-type {\n",
              "        vertical-align: middle;\n",
              "    }\n",
              "\n",
              "    .dataframe tbody tr th {\n",
              "        vertical-align: top;\n",
              "    }\n",
              "\n",
              "    .dataframe thead th {\n",
              "        text-align: right;\n",
              "    }\n",
              "</style>\n",
              "<table border=\"1\" class=\"dataframe\">\n",
              "  <thead>\n",
              "    <tr style=\"text-align: right;\">\n",
              "      <th></th>\n",
              "      <th>CURSO</th>\n",
              "      <th>DATE</th>\n",
              "      <th>DESCONTO</th>\n",
              "      <th>ID</th>\n",
              "      <th>PRECO</th>\n",
              "    </tr>\n",
              "  </thead>\n",
              "  <tbody>\n",
              "    <tr>\n",
              "      <th>0</th>\n",
              "      <td>Tecnólogo em Gestão Financeira</td>\n",
              "      <td>01/02/2019</td>\n",
              "      <td>217</td>\n",
              "      <td>21678155</td>\n",
              "      <td>221</td>\n",
              "    </tr>\n",
              "    <tr>\n",
              "      <th>1</th>\n",
              "      <td>Tecnólogo em Gestão Financeira</td>\n",
              "      <td>08/02/2019</td>\n",
              "      <td>221</td>\n",
              "      <td>21678155</td>\n",
              "      <td>225</td>\n",
              "    </tr>\n",
              "    <tr>\n",
              "      <th>2</th>\n",
              "      <td>Tecnólogo em Gestão Financeira</td>\n",
              "      <td>15/02/2019</td>\n",
              "      <td>244</td>\n",
              "      <td>21678155</td>\n",
              "      <td>250</td>\n",
              "    </tr>\n",
              "    <tr>\n",
              "      <th>3</th>\n",
              "      <td>Tecnólogo em Gestão Financeira</td>\n",
              "      <td>22/02/2019</td>\n",
              "      <td>235</td>\n",
              "      <td>21678155</td>\n",
              "      <td>265</td>\n",
              "    </tr>\n",
              "    <tr>\n",
              "      <th>4</th>\n",
              "      <td>Tecnólogo em Gestão Financeira</td>\n",
              "      <td>25/02/2019</td>\n",
              "      <td>221</td>\n",
              "      <td>21678155</td>\n",
              "      <td>290</td>\n",
              "    </tr>\n",
              "    <tr>\n",
              "      <th>5</th>\n",
              "      <td>Tecnólogo em Gestão Financeira</td>\n",
              "      <td>27/02/2019</td>\n",
              "      <td>240</td>\n",
              "      <td>21678155</td>\n",
              "      <td>244</td>\n",
              "    </tr>\n",
              "    <tr>\n",
              "      <th>6</th>\n",
              "      <td>Administração de Empresas</td>\n",
              "      <td>01/02/2019</td>\n",
              "      <td>342</td>\n",
              "      <td>21678154</td>\n",
              "      <td>348</td>\n",
              "    </tr>\n",
              "    <tr>\n",
              "      <th>7</th>\n",
              "      <td>Administração de Empresas</td>\n",
              "      <td>05/02/2019</td>\n",
              "      <td>340</td>\n",
              "      <td>21678154</td>\n",
              "      <td>345</td>\n",
              "    </tr>\n",
              "    <tr>\n",
              "      <th>8</th>\n",
              "      <td>Administração de Empresas</td>\n",
              "      <td>11/02/2019</td>\n",
              "      <td>350</td>\n",
              "      <td>21678154</td>\n",
              "      <td>356</td>\n",
              "    </tr>\n",
              "    <tr>\n",
              "      <th>9</th>\n",
              "      <td>Administração de Empresas</td>\n",
              "      <td>22/02/2019</td>\n",
              "      <td>358</td>\n",
              "      <td>21678154</td>\n",
              "      <td>360</td>\n",
              "    </tr>\n",
              "    <tr>\n",
              "      <th>10</th>\n",
              "      <td>Administração de Empresas</td>\n",
              "      <td>27/02/2019</td>\n",
              "      <td>379</td>\n",
              "      <td>21678154</td>\n",
              "      <td>385</td>\n",
              "    </tr>\n",
              "    <tr>\n",
              "      <th>11</th>\n",
              "      <td>Administração de Empresas</td>\n",
              "      <td>28/02/2019</td>\n",
              "      <td>388</td>\n",
              "      <td>21678154</td>\n",
              "      <td>391</td>\n",
              "    </tr>\n",
              "  </tbody>\n",
              "</table>\n",
              "</div>"
            ],
            "text/plain": [
              "                             CURSO        DATE  DESCONTO        ID  PRECO\n",
              "0   Tecnólogo em Gestão Financeira  01/02/2019       217  21678155    221\n",
              "1   Tecnólogo em Gestão Financeira  08/02/2019       221  21678155    225\n",
              "2   Tecnólogo em Gestão Financeira  15/02/2019       244  21678155    250\n",
              "3   Tecnólogo em Gestão Financeira  22/02/2019       235  21678155    265\n",
              "4   Tecnólogo em Gestão Financeira  25/02/2019       221  21678155    290\n",
              "5   Tecnólogo em Gestão Financeira  27/02/2019       240  21678155    244\n",
              "6        Administração de Empresas  01/02/2019       342  21678154    348\n",
              "7        Administração de Empresas  05/02/2019       340  21678154    345\n",
              "8        Administração de Empresas  11/02/2019       350  21678154    356\n",
              "9        Administração de Empresas  22/02/2019       358  21678154    360\n",
              "10       Administração de Empresas  27/02/2019       379  21678154    385\n",
              "11       Administração de Empresas  28/02/2019       388  21678154    391"
            ]
          },
          "metadata": {
            "tags": []
          },
          "execution_count": 3
        }
      ]
    },
    {
      "metadata": {
        "id": "Ci09ciQ07SY6",
        "colab_type": "code",
        "colab": {}
      },
      "cell_type": "code",
      "source": [
        "def custom(series):\n",
        "    min_date = list(series)[0]\n",
        "    pen_date = list(series)[-2]\n",
        "    max_date = list(series)[-1]\n",
        "    \n",
        "    return min_date,pen_date,max_date"
      ],
      "execution_count": 0,
      "outputs": []
    },
    {
      "metadata": {
        "id": "vN34UTQ47SY9",
        "colab_type": "code",
        "colab": {}
      },
      "cell_type": "code",
      "source": [
        "def get_price(series):\n",
        "    price_a = list(series)[0]\n",
        "    price_c = list(series)[-2]\n",
        "    price_b = list(series)[-1]\n",
        "    \n",
        "    return price_a,price_c,price_b"
      ],
      "execution_count": 0,
      "outputs": []
    },
    {
      "metadata": {
        "id": "KtNjX2Yy7SZA",
        "colab_type": "code",
        "colab": {
          "base_uri": "https://localhost:8080/",
          "height": 111
        },
        "outputId": "1bdb8241-dd95-4ec3-cf15-ec27d4bd1dee"
      },
      "cell_type": "code",
      "source": [
        "df.groupby([\"ID\"], as_index=False).agg({\"DATE\":custom,\"PRECO\":get_price})"
      ],
      "execution_count": 7,
      "outputs": [
        {
          "output_type": "execute_result",
          "data": {
            "text/html": [
              "<div>\n",
              "<style scoped>\n",
              "    .dataframe tbody tr th:only-of-type {\n",
              "        vertical-align: middle;\n",
              "    }\n",
              "\n",
              "    .dataframe tbody tr th {\n",
              "        vertical-align: top;\n",
              "    }\n",
              "\n",
              "    .dataframe thead th {\n",
              "        text-align: right;\n",
              "    }\n",
              "</style>\n",
              "<table border=\"1\" class=\"dataframe\">\n",
              "  <thead>\n",
              "    <tr style=\"text-align: right;\">\n",
              "      <th></th>\n",
              "      <th>ID</th>\n",
              "      <th>DATE</th>\n",
              "      <th>PRECO</th>\n",
              "    </tr>\n",
              "  </thead>\n",
              "  <tbody>\n",
              "    <tr>\n",
              "      <th>0</th>\n",
              "      <td>21678154</td>\n",
              "      <td>(01/02/2019, 27/02/2019, 28/02/2019)</td>\n",
              "      <td>(348, 385, 391)</td>\n",
              "    </tr>\n",
              "    <tr>\n",
              "      <th>1</th>\n",
              "      <td>21678155</td>\n",
              "      <td>(01/02/2019, 25/02/2019, 27/02/2019)</td>\n",
              "      <td>(221, 290, 244)</td>\n",
              "    </tr>\n",
              "  </tbody>\n",
              "</table>\n",
              "</div>"
            ],
            "text/plain": [
              "         ID                                  DATE            PRECO\n",
              "0  21678154  (01/02/2019, 27/02/2019, 28/02/2019)  (348, 385, 391)\n",
              "1  21678155  (01/02/2019, 25/02/2019, 27/02/2019)  (221, 290, 244)"
            ]
          },
          "metadata": {
            "tags": []
          },
          "execution_count": 7
        }
      ]
    },
    {
      "metadata": {
        "id": "bbKKjOrU7SZZ",
        "colab_type": "code",
        "colab": {},
        "outputId": "2318ed34-e600-457b-ccd4-0736565a17cd"
      },
      "cell_type": "code",
      "source": [
        "df.dtypes"
      ],
      "execution_count": 0,
      "outputs": [
        {
          "output_type": "execute_result",
          "data": {
            "text/plain": [
              "ID          object\n",
              "DATE        object\n",
              "CURSO       object\n",
              "PRECO        int64\n",
              "DESCONTO     int64\n",
              "dtype: object"
            ]
          },
          "metadata": {
            "tags": []
          },
          "execution_count": 41
        }
      ]
    }
  ]
}