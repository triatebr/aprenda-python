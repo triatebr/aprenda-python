{
  "nbformat": 4,
  "nbformat_minor": 0,
  "metadata": {
    "colab": {
      "name": "IBAMA_hack.ipynb",
      "provenance": [],
      "collapsed_sections": [],
      "include_colab_link": true
    },
    "kernelspec": {
      "name": "python3",
      "display_name": "Python 3"
    }
  },
  "cells": [
    {
      "cell_type": "markdown",
      "metadata": {
        "id": "view-in-github",
        "colab_type": "text"
      },
      "source": [
        "<a href=\"https://colab.research.google.com/github/triatebr/aprenda-python/blob/master/IBAMA_hack.ipynb\" target=\"_parent\"><img src=\"https://colab.research.google.com/assets/colab-badge.svg\" alt=\"Open In Colab\"/></a>"
      ]
    },
    {
      "cell_type": "markdown",
      "metadata": {
        "id": "q6mnl72SXAYd",
        "colab_type": "text"
      },
      "source": [
        "![alt text](https://www.gpabrasil.com.br/wp-content/uploads/2017/11/ibama.jpg)"
      ]
    },
    {
      "cell_type": "markdown",
      "metadata": {
        "id": "A0j-3ayEhemu",
        "colab_type": "text"
      },
      "source": [
        "IBAMA - Instituto Brasileiro do Meio Ambiente e dos Recursos Naturais Renováveis<p>\n",
        "O **Instituto Brasileiro do Meio Ambiente e dos Recursos Naturais Renovávei**s, mais conhecido pelo acrônimo **IBAMA**, <p>criado pela Lei nº 7.735 de 22 de fevereiro de 1989, é uma autarquia federal vinculada ao Ministério do Meio Ambiente (MMA). <p>É o órgão executivo responsável pela execução da Política Nacional do Meio Ambiente (PNMA), instituída pela lei nº 6.938, <p>de 31 de agosto de 1981, e desenvolve diversas atividades para a preservação e conservação do patrimônio natural, <p>exercendo o controle e a fiscalização sobre o uso dos recursos naturais (água, flora, fauna, solo, etc). <p>Também cabe a ele conceder licenças ambientais para empreendimentos de sua competência.<p>\n",
        "[Fonte Wiki](https://pt.wikipedia.org/wiki/Instituto_Brasileiro_do_Meio_Ambiente_e_dos_Recursos_Naturais_Renov%C3%A1veis)"
      ]
    },
    {
      "cell_type": "markdown",
      "metadata": {
        "id": "3KzXwtB8iTHP",
        "colab_type": "text"
      },
      "source": [
        "**AUTO DE INFRAÇÃO AMBIENTAL**<p>\n",
        "O Auto de Infração Ambiental (AIA) é o procedimento administrativo destinado à apuração e correção de toda ação ou omissão que viole as regras jurídicas de uso, gozo, promoção, proteção e recuperação do meio ambiente.<p>\n",
        "As infrações ambientais estão dispostas no Decreto n° 60.342/2014 e na Resolução SMA n° 48/2014, com base na Lei Federal N° 9.605/2008, regulamentada pelo Decreto N° 6.514/2008.<p>\n",
        "O Auto de Infração Ambiental é lavrado pela Polícia Militar Ambiental a partir da constatação de qualquer irregularidade e registra todas as informações referentes à infração ambiental identificada. O autuado tomará ciência do AIA: pessoalmente ou por seu representante legal; por carta registrada, com aviso de recebimento (AR); ou por publicação no Diário Oficial do Estado."
      ]
    },
    {
      "cell_type": "code",
      "metadata": {
        "id": "2CjDPfJlkuvk",
        "colab_type": "code",
        "colab": {}
      },
      "source": [
        "# importar libraries\n",
        "import pandas as pd\n",
        "import numpy as np\n",
        "import matplotlib.pyplot as plt\n",
        "%matplotlib inline\n",
        "#fonte: http://www.dados.gov.br/dataset/autos-de-infracao\n",
        "url = 'http://dadosabertos.ibama.gov.br/dados/SIFISC/auto_infracao/auto_infracao/auto_infracao.csv'"
      ],
      "execution_count": null,
      "outputs": []
    },
    {
      "cell_type": "markdown",
      "metadata": {
        "id": "MISKAazEmRpZ",
        "colab_type": "text"
      },
      "source": [
        "Documentação bibliotecas Python<p>\n",
        "- [Pandas](https://pandas.pydata.org/docs/user_guide/index.html)<p>\n",
        "- [Numpy](https://numpy.org/doc/stable/)<p>\n",
        "- [Matplotlib](https://matplotlib.org/)<p>"
      ]
    },
    {
      "cell_type": "code",
      "metadata": {
        "id": "D2D37HAxWdAc",
        "colab_type": "code",
        "colab": {}
      },
      "source": [
        "# leitura do csv usando o link da web\n",
        "# faz-se necessário o 'encoding ='utf8'' devido ao fato da fonte escolhida possuir caracteres especiais\n",
        "# usamos o 'delimiter=\";\"' pela razão de usarem o ';' para separar as colunas\n",
        "df=pd.read_csv(url,encoding='utf8',delimiter=\";\")"
      ],
      "execution_count": null,
      "outputs": []
    },
    {
      "cell_type": "markdown",
      "metadata": {
        "id": "EGTW-CoB68j1",
        "colab_type": "text"
      },
      "source": [
        "[fonte IBAMA](http://www.dados.gov.br/dataset/autos-de-infracao)"
      ]
    },
    {
      "cell_type": "markdown",
      "metadata": {
        "id": "aofNHwbsJj7J",
        "colab_type": "text"
      },
      "source": [
        "![alt text](https://cdn2.iconfinder.com/data/icons/online-education-volume-2/64/search-of-knowledge-512.png)"
      ]
    },
    {
      "cell_type": "markdown",
      "metadata": {
        "id": "OJYsxTDvjBHv",
        "colab_type": "text"
      },
      "source": [
        "Dicionários de Dados<p>\n",
        "[dados.gov.br](http://www.dados.gov.br/dataset/autos-de-infracao/resource/651feed4-cacb-4316-9353-49f571875fb6)"
      ]
    },
    {
      "cell_type": "markdown",
      "metadata": {
        "id": "mCAtCo-gjLck",
        "colab_type": "text"
      },
      "source": [
        "*   **SEQ_AUTO_INFRACAO** - Chave primária (número sequencial) que identifica o auto de infração\n",
        "*   **NUM_AUTO_INFRACAO** - Número impresso no formulário que compõe a identificação do documento juntamente com a série do auto\n",
        "*   **SER_AUTO_INFRACAO** - Caractere impresso no formulário que compõe a identificação do documento juntamente com o número do auto\n",
        "*   **TIPO_AUTO** - Tipo de sanção proposta no auto: multa simples; multa diária; advertência (sem sanção pecuniária)\n",
        "*   **TIPO_MULTA** - Especifica se o dispositivo legal da multa aplicada prevê um valor fixo por unidade (multa fechada) ou se há uma faixa de valores aplicável dependendo da capacidade econômica do infrator e gravidade da infração (multa aberta)\n",
        "*   **VAL_AUTO_INFRACAO** - Valor de multa indicado inicialmente pelo agente ambiental\n",
        "*   **PATRIMONIO_APURACAO** - Forma de apuração do patrimônio da pessoa física ou porte de pessoa jurídica autuada (capacidade aparente ou patrimônio comprovado)\n",
        "*   **GRAVIDADE_INFRACAO** - Gravidade da infração ambiental constatada: Leve, Médio, Grave\n",
        "*   **UNID_ARRECADACAO** - Unidade de arrecadação\n",
        "*   **DES_AUTO_INFRACAO** - Descrição do fato infracional\n",
        "*   **DAT_HORA_AUTO_INFRACAO** - Data e horário da lavratura do formulário\n",
        "*   **FORMA_ENTREGA** - Meio empregado para dar ciência do auto de infração ao autuado: pessoalmente; representante; aviso de recebimento (AR); edital; o autuado recusou-se a assinar\n",
        "*   **DAT_CIENCIA_AUTUACAO** - Data em que o autuado tomou ciência do auto de infração\n",
        "*   **COD_MUNICIPIO** - Código do município (IBGE) de ocorrência da infração\n",
        "*   **MUNICIPIO** - Nome do município de ocorrência da infração\n",
        "*   **UF** - Sigla da unidade da federação de ocorrência da infração\n",
        "*   **NUM_PROCESSO** - Número do processo administrativo do Ibama em que será processado o julgamento do auto e demais medidas adotadas vinculadas ao mesmo fato infracional\n",
        "*   **COD_INFRACAO** - Código do tipo infracional de acordo com o dispositivo legal que prevê a conduta da infração constatada\n",
        "*   **DES_INFRACAO** - Descrição do tipo infracional de acordo com o dispositivo legal que prevê a conduta da infração constatada\n",
        "*   **TIPO_INFRACAO** - Classifica a infração a partir do código do tipo: cadastro técnico federal; controle ambiental; ecossistema; fauna; flora; ordenamento urbano e contr. patrim.; org. gen. modific. E biopirataria; pesca; unidades de conservação; outras\n",
        "*   **NOME_INFRATOR** - Nome da pessoa autuada indicada no auto de infração como infrator\n",
        "*   **CPF_CNPJ_INFRATOR** - Número de Cadastro Nacional de Pessoa Jurídica (CNPJ) ou Cadastro de Pessoa Física (CPF) do infrator\n",
        "*   **QTD_AREA** - Extensão em hectares da área objeto de autuação\n",
        "*   **INFRACAO_AREA** - Tipo de infração vinculada à área objeto da infração: desmatamento; queimadas; outras\n",
        "*   **DES_OUTROS_TIPO_AREA** - Especifica outra infração vinculada à área quando não se trata de desmatamento ou queimada\n",
        "*   **CLASSIFICACAO_AREA** - Tipo de área objeto da infração\n",
        "*   **NUM_LATITUDE_AUTO** - Latitude de ocorrência do fato infracional\n",
        "*   **NUM_LONGITUDE_AUTO** - Longitude de ocorrência do fato infracional\n",
        "*   **DES_LOCAL_INFRACAO** - Descrição do local de ocorrência do fato infracional\n",
        "*   **NOTIFICACAO_VINCULADA** - Número e série de notificação vinculada ao auto de infração\n",
        "*   **ACAO_FISCALIZATORIA** - Número da ação fiscalizatória de origem do auto de infração\n",
        "*   **UNIDADE** - Unidade de fiscalização responsável pelo auto de infração\n",
        "*   **TIPO_ACAO** - Motivação da ação fiscalizatória: operação; fortuito; rotina; demanda jurídica/Ministério Público; linha verde (denúncia Sisliv)\n",
        "*   **OPERACAO** - Nome da operação de fiscalização\n",
        "*   **DENUNCIA_SISLIV** - Número da ocorrência registrada no sistema Linha Verde de ouvidoria, que motivou a a ação fiscalizatória\n",
        "*   **ORDEM_FISCALIZACAO** - Ordem de fiscalização que motivou a ação fiscalizatória\n",
        "*   **SOLICITACAO_RECURSO** - Número da solicitação de recurso vinculada à ordem de fiscalização\n",
        "*   **OPERACAO_SOL_RECURSO** - Nome da operação de fiscalização prevista na solicitação de recurso\n",
        "*   **DAT_LANCAMENTO** - Data em que o formulário foi lançado no sistema de fiscalização (auto analógico), ou gerado no aparelho PDA (auto de infração eletrônico)\n",
        "*   **DAT_ULT_ALTERACAO** - Data da ultima alteração\n",
        "*   **TIPO_ULT_ALTERACAO** - Tipo da última alteração"
      ]
    },
    {
      "cell_type": "code",
      "metadata": {
        "id": "8zazh8RECVAS",
        "colab_type": "code",
        "colab": {}
      },
      "source": [
        "# quantidade de linhas e colunas do DataFrame\n",
        "# Isso mesmo quase 600k linhas\n",
        "df.shape"
      ],
      "execution_count": null,
      "outputs": []
    },
    {
      "cell_type": "code",
      "metadata": {
        "id": "SAx_lUyeWu86",
        "colab_type": "code",
        "colab": {}
      },
      "source": [
        "# visualizar o DataFrame -- as 5 primeiras linhas\n",
        "df.head()"
      ],
      "execution_count": null,
      "outputs": []
    },
    {
      "cell_type": "code",
      "metadata": {
        "id": "PJ959LgXEJSC",
        "colab_type": "code",
        "colab": {}
      },
      "source": [
        "# agora as 5 últimas linhas\n",
        "df.tail()"
      ],
      "execution_count": null,
      "outputs": []
    },
    {
      "cell_type": "markdown",
      "metadata": {
        "id": "MpS4acxUEdix",
        "colab_type": "text"
      },
      "source": [
        "![alt text](https://programacaopratica.com.br/wp-content/uploads/2020/06/2616140_b4fc2.jpg)"
      ]
    },
    {
      "cell_type": "markdown",
      "metadata": {
        "id": "SUYcFC4jB0Cu",
        "colab_type": "text"
      },
      "source": [
        "Como sempre começamos visualizando as info's da estrutura do dataframe criado ...."
      ]
    },
    {
      "cell_type": "code",
      "metadata": {
        "id": "VtWl0mptBrpR",
        "colab_type": "code",
        "colab": {}
      },
      "source": [
        "# listar as características dos campos\n",
        "df.dtypes"
      ],
      "execution_count": null,
      "outputs": []
    },
    {
      "cell_type": "code",
      "metadata": {
        "id": "O5Mp0rF_CL63",
        "colab_type": "code",
        "colab": {}
      },
      "source": [
        "# listar + detalhes sobre os campos\n",
        "df.info()"
      ],
      "execution_count": null,
      "outputs": []
    },
    {
      "cell_type": "markdown",
      "metadata": {
        "id": "HQP5RGPkDRUk",
        "colab_type": "text"
      },
      "source": [
        "AGORA .... vamos analisar os **dados**"
      ]
    },
    {
      "cell_type": "markdown",
      "metadata": {
        "id": "aykABK2OEGY9",
        "colab_type": "text"
      },
      "source": [
        "1º vamos começar localizando os atos de infração"
      ]
    },
    {
      "cell_type": "code",
      "metadata": {
        "id": "ipCC3uWvD8X6",
        "colab_type": "code",
        "colab": {}
      },
      "source": [
        "# vamos listar/contar os registros por UF do Brasil\n",
        "df[\"UF\"].value_counts()"
      ],
      "execution_count": null,
      "outputs": []
    },
    {
      "cell_type": "code",
      "metadata": {
        "id": "NWCMT24CENQO",
        "colab_type": "code",
        "colab": {}
      },
      "source": [
        "# listamos agora a distribuição normalizada em %\n",
        "df[\"UF\"].value_counts(normalize=True)"
      ],
      "execution_count": null,
      "outputs": []
    },
    {
      "cell_type": "markdown",
      "metadata": {
        "id": "jmYKE0lJeOR7",
        "colab_type": "text"
      },
      "source": [
        "**Análise**: concluímos que **MG** (MInas Gerais) concentra mais de 17% dos atos de Infração no Brasil<p>\n",
        "Reparamos também que os Estados com maior números de registros estão pulverizados por todas as regiões.<p>\n",
        "Recomenda-se que o **IBAMA** (órgão responsável), crie uma força tarefa para atuar em todo o Brasil, <p>para que os criminosos sejam punidos/multados. \n",
        "\n"
      ]
    },
    {
      "cell_type": "code",
      "metadata": {
        "id": "m0uWvzNTHPls",
        "colab_type": "code",
        "colab": {}
      },
      "source": [
        "# vamos listar registros por tipo de Infração\n",
        "df[\"INFRACAO_AREA\"].value_counts()"
      ],
      "execution_count": null,
      "outputs": []
    },
    {
      "cell_type": "code",
      "metadata": {
        "id": "WeFmXZizn6C-",
        "colab_type": "code",
        "colab": {}
      },
      "source": [
        "# listamos agora a distribuição normalizada em %\n",
        "df[\"INFRACAO_AREA\"].value_counts(normalize=True)"
      ],
      "execution_count": null,
      "outputs": []
    },
    {
      "cell_type": "markdown",
      "metadata": {
        "id": "vbMCyWeKoC2-",
        "colab_type": "text"
      },
      "source": [
        "Análise: '**Desmatamento**' representa quase 94% das infrações do IBAMA.<p>\n",
        "É indicado que o IBAMA atue com urgência na mesma, para que os <p>responáveis sejam punidos(finaceiramente e judicialmete) e expostos para <p>toda população, fazendo algo para que tais número caiam."
      ]
    },
    {
      "cell_type": "markdown",
      "metadata": {
        "id": "5bQQ0C8KKTPE",
        "colab_type": "text"
      },
      "source": [
        "Agora vamos usar esse 2º Dataframe.<p>\n",
        "Sim, é possível criar um outro Dataframe por aqui<p>\n",
        "Como? Vem comigo..."
      ]
    },
    {
      "cell_type": "markdown",
      "metadata": {
        "id": "SUxKCtxviKHB",
        "colab_type": "text"
      },
      "source": [
        "![alt text](https://upload.wikimedia.org/wikipedia/commons/thumb/6/66/DosConjuntos206.svg/1200px-DosConjuntos206.svg.png)"
      ]
    },
    {
      "cell_type": "code",
      "metadata": {
        "id": "MRtPdw1pEjkq",
        "colab_type": "code",
        "colab": {}
      },
      "source": [
        "# selecionar os registros somente de SP .... criarmos um 2º dataframe como 'df_sp'\n",
        "df_sp = df[df[\"UF\"] == \"SP\"]"
      ],
      "execution_count": 12,
      "outputs": []
    },
    {
      "cell_type": "code",
      "metadata": {
        "id": "016UuwwfE5sC",
        "colab_type": "code",
        "colab": {}
      },
      "source": [
        "# estrutura do dataframe\n",
        "df_sp.shape"
      ],
      "execution_count": null,
      "outputs": []
    },
    {
      "cell_type": "code",
      "metadata": {
        "id": "RvQ_8YJXKhN-",
        "colab_type": "code",
        "colab": {}
      },
      "source": [
        "# listar as 5 primeiras linhas\n",
        "df_sp.head()"
      ],
      "execution_count": null,
      "outputs": []
    },
    {
      "cell_type": "code",
      "metadata": {
        "id": "MLEjybOsDZDM",
        "colab_type": "code",
        "colab": {}
      },
      "source": [
        "# vamos contar os registros por TIPO_INFRACAO\n",
        "df_sp[\"TIPO_INFRACAO\"].value_counts()"
      ],
      "execution_count": null,
      "outputs": []
    },
    {
      "cell_type": "code",
      "metadata": {
        "id": "iukLuDS9gKuB",
        "colab_type": "code",
        "colab": {}
      },
      "source": [
        "# listamos agora a distribuição normalizada em %\n",
        "df_sp[\"TIPO_INFRACAO\"].value_counts(normalize=True)"
      ],
      "execution_count": null,
      "outputs": []
    },
    {
      "cell_type": "markdown",
      "metadata": {
        "id": "hp6_415ygQLD",
        "colab_type": "text"
      },
      "source": [
        "Análise: Nota-se que há um número enorme de infrações relacionados a Pesca (+ de 45%),<p> recomenda-se que o Governo Federal / Estadual atue de forma rigorosa em cima dessa prática abusiva."
      ]
    },
    {
      "cell_type": "code",
      "metadata": {
        "id": "sQc5r-qeKvLH",
        "colab_type": "code",
        "colab": {}
      },
      "source": [
        "# representação gráfica po tipo de infração em SP\n",
        "df_sp.groupby('TIPO_INFRACAO').size().sort_values().tail(5).plot(kind='barh')"
      ],
      "execution_count": null,
      "outputs": []
    }
  ]
}