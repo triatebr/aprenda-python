{
  "nbformat": 4,
  "nbformat_minor": 0,
  "metadata": {
    "colab": {
      "name": "CONARE.ipynb",
      "version": "0.3.2",
      "provenance": [],
      "collapsed_sections": [],
      "include_colab_link": true
    },
    "kernelspec": {
      "name": "python3",
      "display_name": "Python 3"
    }
  },
  "cells": [
    {
      "cell_type": "markdown",
      "metadata": {
        "id": "view-in-github",
        "colab_type": "text"
      },
      "source": [
        "<a href=\"https://colab.research.google.com/github/triatebr/aprenda-python/blob/master/CONARE.ipynb\" target=\"_parent\"><img src=\"https://colab.research.google.com/assets/colab-badge.svg\" alt=\"Open In Colab\"/></a>"
      ]
    },
    {
      "metadata": {
        "id": "PKEOue4lkvQN",
        "colab_type": "text"
      },
      "cell_type": "markdown",
      "source": [
        "![logos](https://mundogeo.com/wp-content/uploads/2014/01/Plataforma-Dados-Abertos.jpg)\n"
      ]
    },
    {
      "metadata": {
        "id": "3DboCmaTkxvr",
        "colab_type": "text"
      },
      "cell_type": "markdown",
      "source": [
        "Hoje 13.03 teremos contato com os conceitos/prática de **Dados Abertos** e realizaremos uma análise exploratória usando comandos do **Python** via [Colab.research](https://colab.research.google.com/notebooks/welcome.ipynb)\n"
      ]
    },
    {
      "metadata": {
        "id": "ahooyeGik2Hy",
        "colab_type": "text"
      },
      "cell_type": "markdown",
      "source": [
        "Para tanto usaremos conceitos de **Dataframe!?!?!** <p>\n",
        "  Peraí, data? O que?"
      ]
    },
    {
      "metadata": {
        "id": "4xDyZMLlk7Hp",
        "colab_type": "text"
      },
      "cell_type": "markdown",
      "source": [
        "**Estruturas de dados no Pandas** <p>\n",
        "**Séries :**<p>\n",
        "Uma matriz uni-dimensional capaz de conter qualquer tipo de dado<p>\n",
        "s = pd.Series([3, -5, 7, 4], index=[‘a’, ‘b’, ‘c’, ‘d’])<p>\n",
        "  \n",
        "![alt text](https://www.vooo.pro/insights/wp-content/uploads/2018/01/pandas1.png)\n",
        "  \n",
        "**Frame de dados (Data frame) :**<p>\n",
        "Uma estrutura de dados bi-dimensional com colunas de diferentes tipos<p>\n",
        "\n",
        "data = {‘País’: [‘Portugal’, ‘Peru’, ‘Chile’], ‘Capital’: [‘Lisboa’, ‘Lima’, ‘Santiago’], ‘População’: [751000, 1120000, 695000]}<p>\n",
        "df = pd.DataFrame(data, columns=[‘País’, ‘Capital’, ‘População’])<p>\n",
        "  \n",
        "![alt text](https://www.vooo.pro/insights/wp-content/uploads/2018/01/pandas2.png)\n",
        "  \n",
        "[fonte](https://www.vooo.pro/insights/guia-de-acesso-rapido-ao-pandas/)"
      ]
    },
    {
      "metadata": {
        "id": "PkKBrqJykoeD",
        "colab_type": "code",
        "colab": {}
      },
      "cell_type": "code",
      "source": [
        "# instalar libraries para uso no Python3\n",
        "!pip install pandas\n",
        "!pip install numpy"
      ],
      "execution_count": 0,
      "outputs": []
    },
    {
      "metadata": {
        "id": "2CjDPfJlkuvk",
        "colab_type": "code",
        "colab": {}
      },
      "cell_type": "code",
      "source": [
        "# importar libraries\n",
        "import pandas as pd\n",
        "import seaborn as sns\n",
        "import numpy as np\n",
        "import matplotlib.pyplot as plt\n",
        "%matplotlib inline\n",
        "#fonte: http://dados.gov.br/dataset/comite-nacional-para-os-refugiados\n",
        "url = 'http://dados.mj.gov.br/dataset/7c589e2f-dfb8-40b3-bc96-e389155d8c67/resource/a74a4b65-c38a-4343-9fb5-e1b4e919dd6d/download/conare.csv'"
      ],
      "execution_count": 0,
      "outputs": []
    },
    {
      "metadata": {
        "id": "KTxJ9tYhlGaM",
        "colab_type": "code",
        "colab": {}
      },
      "cell_type": "code",
      "source": [
        "# leitura do csv usando o link da web\n",
        "# faz-se necessário o 'encoding ='latin1'' devido ao fato da fonte escolhida possuir caracteres especiais\n",
        "# usamos o 'delimiter=\";\"' pela razão de usarem o ';' para separar as colunas\n",
        "df=pd.read_csv(url,encoding ='latin', delimiter=\";\")"
      ],
      "execution_count": 0,
      "outputs": []
    },
    {
      "metadata": {
        "id": "lkS3m6OJlLvZ",
        "colab_type": "text"
      },
      "cell_type": "markdown",
      "source": [
        "**VISUALIZAÇÃO/COMPREENSÃO**"
      ]
    },
    {
      "metadata": {
        "id": "00TUoFJllIeO",
        "colab_type": "code",
        "colab": {}
      },
      "cell_type": "code",
      "source": [
        "# visualização das 5 primeiras linhas do dataframe, mas caso prefira mais linhas? insira o numero entre os '()'\n",
        "# sempre que nos refereciarmos ao Dataframe usaremos o 'df'\n",
        "df.head()"
      ],
      "execution_count": 0,
      "outputs": []
    },
    {
      "metadata": {
        "id": "pc36bNNUlP8f",
        "colab_type": "code",
        "colab": {}
      },
      "cell_type": "code",
      "source": [
        "# as últimas 5 linhas\n",
        "df.tail()"
      ],
      "execution_count": 0,
      "outputs": []
    },
    {
      "metadata": {
        "id": "YGXvUKc6lSid",
        "colab_type": "code",
        "colab": {}
      },
      "cell_type": "code",
      "source": [
        "# quantidade de linhas e colunas do dataframe\n",
        "df.shape"
      ],
      "execution_count": 0,
      "outputs": []
    },
    {
      "metadata": {
        "id": "JdOgYz3NlVU3",
        "colab_type": "code",
        "colab": {}
      },
      "cell_type": "code",
      "source": [
        "# todas as colunas do dataframe\n",
        "df.columns"
      ],
      "execution_count": 0,
      "outputs": []
    },
    {
      "metadata": {
        "id": "Fvgyy1KblXIn",
        "colab_type": "code",
        "colab": {}
      },
      "cell_type": "code",
      "source": [
        "# após a importação e visualização, como serão as colunas e características do nosso Dataframe?\n",
        "df.dtypes"
      ],
      "execution_count": 0,
      "outputs": []
    },
    {
      "metadata": {
        "id": "h9I6dKPblfgf",
        "colab_type": "text"
      },
      "cell_type": "markdown",
      "source": [
        "informação **CONTINENTE**"
      ]
    },
    {
      "metadata": {
        "id": "kjuzaI86lhIe",
        "colab_type": "code",
        "colab": {}
      },
      "cell_type": "code",
      "source": [
        "# para sabermos os valores únicos de uma determinada coluna, usamos o 'unique()'\n",
        "df['Continente'].unique()"
      ],
      "execution_count": 0,
      "outputs": []
    },
    {
      "metadata": {
        "id": "BXaULe2Tljfw",
        "colab_type": "code",
        "colab": {}
      },
      "cell_type": "code",
      "source": [
        "#agrupando dados, inicialmente por Continente\n",
        "df['Continente'].value_counts()"
      ],
      "execution_count": 0,
      "outputs": []
    },
    {
      "metadata": {
        "id": "ZI4XIsuDllb1",
        "colab_type": "code",
        "colab": {}
      },
      "cell_type": "code",
      "source": [
        "# os valores contados também podem ser normalizados para expressar porcentagens\n",
        "df[\"Continente\"].value_counts(normalize=True)"
      ],
      "execution_count": 0,
      "outputs": []
    },
    {
      "metadata": {
        "id": "NQC2d_3imWme",
        "colab_type": "code",
        "colab": {}
      },
      "cell_type": "code",
      "source": [
        "df[\"Continente\"].value_counts().plot.bar(title=\"Continentes\")\n",
        "plt.show()"
      ],
      "execution_count": 0,
      "outputs": []
    },
    {
      "metadata": {
        "id": "0mhcgLB6mb3R",
        "colab_type": "code",
        "colab": {}
      },
      "cell_type": "code",
      "source": [
        "#selecionando apenas do 'Continente' da América do Sul\n",
        "df.loc[(df['Continente'] == 'América Do Sul')]"
      ],
      "execution_count": 0,
      "outputs": []
    },
    {
      "metadata": {
        "id": "q_q57Txxmge3",
        "colab_type": "code",
        "colab": {}
      },
      "cell_type": "code",
      "source": [
        "#selecionando apenas do 'Continente' da América do Sul e 'Sexo' Masculino\n",
        "df.loc[(df['Continente'] == 'América Do Sul') & (df['Sexo'] =='MASCULINO')]"
      ],
      "execution_count": 0,
      "outputs": []
    },
    {
      "metadata": {
        "id": "gKWmtUezmmDa",
        "colab_type": "text"
      },
      "cell_type": "markdown",
      "source": [
        "**STATUS**"
      ]
    },
    {
      "metadata": {
        "id": "OX8MgdiqmmqH",
        "colab_type": "code",
        "colab": {}
      },
      "cell_type": "code",
      "source": [
        "df['Status'].unique()"
      ],
      "execution_count": 0,
      "outputs": []
    },
    {
      "metadata": {
        "id": "ucY-yzIGmoq3",
        "colab_type": "code",
        "colab": {}
      },
      "cell_type": "code",
      "source": [
        "df['Status'].value_counts()"
      ],
      "execution_count": 0,
      "outputs": []
    },
    {
      "metadata": {
        "id": "AJysAeagmqn3",
        "colab_type": "code",
        "colab": {}
      },
      "cell_type": "code",
      "source": [
        "#selecionando registros da 'ÍNDIA' e com Status de 'RECONHECIDOS' \n",
        "df.loc[(df['Status'] == 'RECONHECIDOS') & (df['País de Origem'] =='ÍNDIA')]"
      ],
      "execution_count": 0,
      "outputs": []
    },
    {
      "metadata": {
        "id": "ivVy3IC1mtMD",
        "colab_type": "code",
        "colab": {}
      },
      "cell_type": "code",
      "source": [
        "df[\"Status\"].value_counts().plot.bar()\n",
        "plt.show()"
      ],
      "execution_count": 0,
      "outputs": []
    }
  ]
}